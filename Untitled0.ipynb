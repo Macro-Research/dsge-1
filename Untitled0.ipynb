{
 "metadata": {
  "name": "",
  "signature": "sha256:d751b73f1238df5eabd71e367b9b8010ebac1c96ebf23a665a8be3049d1b2fcc"
 },
 "nbformat": 3,
 "nbformat_minor": 0,
 "worksheets": [
  {
   "cells": [
    {
     "cell_type": "code",
     "collapsed": false,
     "input": [
      "%load_ext autoreload\n",
      "%autoreload 2"
     ],
     "language": "python",
     "metadata": {},
     "outputs": [
      {
       "output_type": "stream",
       "stream": "stdout",
       "text": [
        "The autoreload extension is already loaded. To reload it, use:\n",
        "  %reload_ext autoreload\n"
       ]
      }
     ],
     "prompt_number": 236
    },
    {
     "cell_type": "code",
     "collapsed": false,
     "input": [
      "import sys\n",
      "import DSGE\n",
      "\n",
      "from compile_si import read"
     ],
     "language": "python",
     "metadata": {},
     "outputs": [],
     "prompt_number": 1
    },
    {
     "cell_type": "code",
     "collapsed": false,
     "input": [
      "nkmp_model = DSGE.DSGE.read('/mq/home/m1eph00/projects/dsge-book/code/models/nkmp/nkmp_base.yaml')\n",
      "nkmp = nkmp_model.compile_model()\n",
      "nkmp_irfs = nkmp.impulse_response(nkmp_model.p0())"
     ],
     "language": "python",
     "metadata": {},
     "outputs": [
      {
       "ename": "IOError",
       "evalue": "[Errno 2] No such file or directory: '/mq/home/m1eph00/projects/dsge-book/code/models/nkmp/nkmp_base.yaml'",
       "output_type": "pyerr",
       "traceback": [
        "\u001b[1;31m---------------------------------------------------------------------------\u001b[0m\n\u001b[1;31mIOError\u001b[0m                                   Traceback (most recent call last)",
        "\u001b[1;32m<ipython-input-2-7f92825c00fb>\u001b[0m in \u001b[0;36m<module>\u001b[1;34m()\u001b[0m\n\u001b[1;32m----> 1\u001b[1;33m \u001b[0mnkmp_model\u001b[0m \u001b[1;33m=\u001b[0m \u001b[0mDSGE\u001b[0m\u001b[1;33m.\u001b[0m\u001b[0mDSGE\u001b[0m\u001b[1;33m.\u001b[0m\u001b[0mread\u001b[0m\u001b[1;33m(\u001b[0m\u001b[1;34m'/mq/home/m1eph00/projects/dsge-book/code/models/nkmp/nkmp_base.yaml'\u001b[0m\u001b[1;33m)\u001b[0m\u001b[1;33m\u001b[0m\u001b[0m\n\u001b[0m\u001b[0;32m      2\u001b[0m \u001b[0mnkmp\u001b[0m \u001b[1;33m=\u001b[0m \u001b[0mnkmp_model\u001b[0m\u001b[1;33m.\u001b[0m\u001b[0mcompile_model\u001b[0m\u001b[1;33m(\u001b[0m\u001b[1;33m)\u001b[0m\u001b[1;33m\u001b[0m\u001b[0m\n\u001b[0;32m      3\u001b[0m \u001b[0mnkmp_irfs\u001b[0m \u001b[1;33m=\u001b[0m \u001b[0mnkmp\u001b[0m\u001b[1;33m.\u001b[0m\u001b[0mimpulse_response\u001b[0m\u001b[1;33m(\u001b[0m\u001b[0mnkmp_model\u001b[0m\u001b[1;33m.\u001b[0m\u001b[0mp0\u001b[0m\u001b[1;33m(\u001b[0m\u001b[1;33m)\u001b[0m\u001b[1;33m)\u001b[0m\u001b[1;33m\u001b[0m\u001b[0m\n",
        "\u001b[1;32m/home/eherbst/from-work/dsge/DSGE.py\u001b[0m in \u001b[0;36mread\u001b[1;34m(mfile)\u001b[0m\n\u001b[0;32m   1128\u001b[0m     \u001b[1;33m@\u001b[0m\u001b[0mstaticmethod\u001b[0m\u001b[1;33m\u001b[0m\u001b[0m\n\u001b[0;32m   1129\u001b[0m     \u001b[1;32mdef\u001b[0m \u001b[0mread\u001b[0m\u001b[1;33m(\u001b[0m\u001b[0mmfile\u001b[0m\u001b[1;33m)\u001b[0m\u001b[1;33m:\u001b[0m\u001b[1;33m\u001b[0m\u001b[0m\n\u001b[1;32m-> 1130\u001b[1;33m         \u001b[0mf\u001b[0m \u001b[1;33m=\u001b[0m \u001b[0mopen\u001b[0m\u001b[1;33m(\u001b[0m\u001b[0mmfile\u001b[0m\u001b[1;33m)\u001b[0m\u001b[1;33m\u001b[0m\u001b[0m\n\u001b[0m\u001b[0;32m   1131\u001b[0m         \u001b[0mtxt\u001b[0m \u001b[1;33m=\u001b[0m \u001b[0mf\u001b[0m\u001b[1;33m.\u001b[0m\u001b[0mread\u001b[0m\u001b[1;33m(\u001b[0m\u001b[1;33m)\u001b[0m\u001b[1;33m\u001b[0m\u001b[0m\n\u001b[0;32m   1132\u001b[0m         \u001b[0mf\u001b[0m\u001b[1;33m.\u001b[0m\u001b[0mclose\u001b[0m\u001b[1;33m(\u001b[0m\u001b[1;33m)\u001b[0m\u001b[1;33m\u001b[0m\u001b[0m\n",
        "\u001b[1;31mIOError\u001b[0m: [Errno 2] No such file or directory: '/mq/home/m1eph00/projects/dsge-book/code/models/nkmp/nkmp_base.yaml'"
       ]
      }
     ],
     "prompt_number": 2
    },
    {
     "cell_type": "code",
     "collapsed": false,
     "input": [
      "edo_model = DSGE.DSGE.read('/mq/home/m1eph00/python-repo/dsge/examples/edo/edo.yaml')\n",
      "edo = edo_model.compile_model()\n",
      "edo_irfs = edo.impulse_response(edo_model.p0())"
     ],
     "language": "python",
     "metadata": {},
     "outputs": [
      {
       "output_type": "stream",
       "stream": "stdout",
       "text": [
        " \r",
        " Differentiating equation 1 of 116. "
       ]
      },
      {
       "output_type": "stream",
       "stream": "stdout",
       "text": [
        "\r",
        " Differentiating equation 2 of 116. "
       ]
      },
      {
       "output_type": "stream",
       "stream": "stdout",
       "text": [
        "\r",
        " Differentiating equation 3 of 116. "
       ]
      },
      {
       "output_type": "stream",
       "stream": "stdout",
       "text": [
        "\r",
        " Differentiating equation 4 of 116. "
       ]
      },
      {
       "output_type": "stream",
       "stream": "stdout",
       "text": [
        "\r",
        " Differentiating equation 5 of 116. "
       ]
      },
      {
       "output_type": "stream",
       "stream": "stdout",
       "text": [
        "\r",
        " Differentiating equation 6 of 116. "
       ]
      },
      {
       "output_type": "stream",
       "stream": "stdout",
       "text": [
        "\r",
        " Differentiating equation 7 of 116. "
       ]
      },
      {
       "output_type": "stream",
       "stream": "stdout",
       "text": [
        "\r",
        " Differentiating equation 8 of 116. "
       ]
      },
      {
       "output_type": "stream",
       "stream": "stdout",
       "text": [
        "\r",
        " Differentiating equation 9 of 116. "
       ]
      },
      {
       "output_type": "stream",
       "stream": "stdout",
       "text": [
        "\r",
        " Differentiating equation 10 of 116. "
       ]
      },
      {
       "output_type": "stream",
       "stream": "stdout",
       "text": [
        "\r",
        " Differentiating equation 11 of 116. "
       ]
      },
      {
       "output_type": "stream",
       "stream": "stdout",
       "text": [
        "\r",
        " Differentiating equation 12 of 116. "
       ]
      },
      {
       "output_type": "stream",
       "stream": "stdout",
       "text": [
        "\r",
        " Differentiating equation 13 of 116. "
       ]
      },
      {
       "output_type": "stream",
       "stream": "stdout",
       "text": [
        "\r",
        " Differentiating equation 14 of 116. "
       ]
      },
      {
       "output_type": "stream",
       "stream": "stdout",
       "text": [
        "\r",
        " Differentiating equation 15 of 116. "
       ]
      },
      {
       "output_type": "stream",
       "stream": "stdout",
       "text": [
        "\r",
        " Differentiating equation 16 of 116. "
       ]
      },
      {
       "output_type": "stream",
       "stream": "stdout",
       "text": [
        "\r",
        " Differentiating equation 17 of 116. "
       ]
      },
      {
       "output_type": "stream",
       "stream": "stdout",
       "text": [
        "\r",
        " Differentiating equation 18 of 116. "
       ]
      },
      {
       "output_type": "stream",
       "stream": "stdout",
       "text": [
        "\r",
        " Differentiating equation 19 of 116. "
       ]
      },
      {
       "output_type": "stream",
       "stream": "stdout",
       "text": [
        "\r",
        " Differentiating equation 20 of 116. "
       ]
      },
      {
       "output_type": "stream",
       "stream": "stdout",
       "text": [
        "\r",
        " Differentiating equation 21 of 116. "
       ]
      },
      {
       "output_type": "stream",
       "stream": "stdout",
       "text": [
        "\r",
        " Differentiating equation 22 of 116. "
       ]
      },
      {
       "output_type": "stream",
       "stream": "stdout",
       "text": [
        "\r",
        " Differentiating equation 23 of 116. "
       ]
      },
      {
       "output_type": "stream",
       "stream": "stdout",
       "text": [
        "\r",
        " Differentiating equation 24 of 116. "
       ]
      },
      {
       "output_type": "stream",
       "stream": "stdout",
       "text": [
        "\r",
        " Differentiating equation 25 of 116. "
       ]
      },
      {
       "output_type": "stream",
       "stream": "stdout",
       "text": [
        "\r",
        " Differentiating equation 26 of 116. "
       ]
      },
      {
       "output_type": "stream",
       "stream": "stdout",
       "text": [
        "\r",
        " Differentiating equation 27 of 116. "
       ]
      },
      {
       "output_type": "stream",
       "stream": "stdout",
       "text": [
        "\r",
        " Differentiating equation 28 of 116. "
       ]
      },
      {
       "output_type": "stream",
       "stream": "stdout",
       "text": [
        "\r",
        " Differentiating equation 29 of 116. "
       ]
      },
      {
       "output_type": "stream",
       "stream": "stdout",
       "text": [
        "\r",
        " Differentiating equation 30 of 116. "
       ]
      },
      {
       "output_type": "stream",
       "stream": "stdout",
       "text": [
        "\r",
        " Differentiating equation 31 of 116. "
       ]
      },
      {
       "output_type": "stream",
       "stream": "stdout",
       "text": [
        "\r",
        " Differentiating equation 32 of 116. "
       ]
      },
      {
       "output_type": "stream",
       "stream": "stdout",
       "text": [
        "\r",
        " Differentiating equation 33 of 116. "
       ]
      },
      {
       "output_type": "stream",
       "stream": "stdout",
       "text": [
        "\r",
        " Differentiating equation 34 of 116. "
       ]
      },
      {
       "output_type": "stream",
       "stream": "stdout",
       "text": [
        "\r",
        " Differentiating equation 35 of 116. "
       ]
      },
      {
       "output_type": "stream",
       "stream": "stdout",
       "text": [
        "\r",
        " Differentiating equation 36 of 116. "
       ]
      },
      {
       "output_type": "stream",
       "stream": "stdout",
       "text": [
        "\r",
        " Differentiating equation 37 of 116. "
       ]
      },
      {
       "output_type": "stream",
       "stream": "stdout",
       "text": [
        "\r",
        " Differentiating equation 38 of 116. "
       ]
      },
      {
       "output_type": "stream",
       "stream": "stdout",
       "text": [
        "\r",
        " Differentiating equation 39 of 116. "
       ]
      },
      {
       "output_type": "stream",
       "stream": "stdout",
       "text": [
        "\r",
        " Differentiating equation 40 of 116. "
       ]
      },
      {
       "output_type": "stream",
       "stream": "stdout",
       "text": [
        "\r",
        " Differentiating equation 41 of 116. "
       ]
      },
      {
       "output_type": "stream",
       "stream": "stdout",
       "text": [
        "\r",
        " Differentiating equation 42 of 116. "
       ]
      },
      {
       "output_type": "stream",
       "stream": "stdout",
       "text": [
        "\r",
        " Differentiating equation 43 of 116. "
       ]
      },
      {
       "output_type": "stream",
       "stream": "stdout",
       "text": [
        "\r",
        " Differentiating equation 44 of 116. "
       ]
      },
      {
       "output_type": "stream",
       "stream": "stdout",
       "text": [
        "\r",
        " Differentiating equation 45 of 116. "
       ]
      },
      {
       "output_type": "stream",
       "stream": "stdout",
       "text": [
        "\r",
        " Differentiating equation 46 of 116. "
       ]
      },
      {
       "output_type": "stream",
       "stream": "stdout",
       "text": [
        "\r",
        " Differentiating equation 47 of 116. "
       ]
      },
      {
       "output_type": "stream",
       "stream": "stdout",
       "text": [
        "\r",
        " Differentiating equation 48 of 116. "
       ]
      },
      {
       "output_type": "stream",
       "stream": "stdout",
       "text": [
        "\r",
        " Differentiating equation 49 of 116. "
       ]
      },
      {
       "output_type": "stream",
       "stream": "stdout",
       "text": [
        "\r",
        " Differentiating equation 50 of 116. "
       ]
      },
      {
       "output_type": "stream",
       "stream": "stdout",
       "text": [
        "\r",
        " Differentiating equation 51 of 116. "
       ]
      },
      {
       "output_type": "stream",
       "stream": "stdout",
       "text": [
        "\r",
        " Differentiating equation 52 of 116. "
       ]
      },
      {
       "output_type": "stream",
       "stream": "stdout",
       "text": [
        "\r",
        " Differentiating equation 53 of 116. "
       ]
      },
      {
       "output_type": "stream",
       "stream": "stdout",
       "text": [
        "\r",
        " Differentiating equation 54 of 116. "
       ]
      },
      {
       "output_type": "stream",
       "stream": "stdout",
       "text": [
        "\r",
        " Differentiating equation 55 of 116. "
       ]
      },
      {
       "output_type": "stream",
       "stream": "stdout",
       "text": [
        "\r",
        " Differentiating equation 56 of 116. "
       ]
      },
      {
       "output_type": "stream",
       "stream": "stdout",
       "text": [
        "\r",
        " Differentiating equation 57 of 116. "
       ]
      },
      {
       "output_type": "stream",
       "stream": "stdout",
       "text": [
        "\r",
        " Differentiating equation 58 of 116. "
       ]
      },
      {
       "output_type": "stream",
       "stream": "stdout",
       "text": [
        "\r",
        " Differentiating equation 59 of 116. "
       ]
      },
      {
       "output_type": "stream",
       "stream": "stdout",
       "text": [
        "\r",
        " Differentiating equation 60 of 116. "
       ]
      },
      {
       "output_type": "stream",
       "stream": "stdout",
       "text": [
        "\r",
        " Differentiating equation 61 of 116. "
       ]
      },
      {
       "output_type": "stream",
       "stream": "stdout",
       "text": [
        "\r",
        " Differentiating equation 62 of 116. "
       ]
      },
      {
       "output_type": "stream",
       "stream": "stdout",
       "text": [
        "\r",
        " Differentiating equation 63 of 116. "
       ]
      },
      {
       "output_type": "stream",
       "stream": "stdout",
       "text": [
        "\r",
        " Differentiating equation 64 of 116. "
       ]
      },
      {
       "output_type": "stream",
       "stream": "stdout",
       "text": [
        "\r",
        " Differentiating equation 65 of 116. "
       ]
      },
      {
       "output_type": "stream",
       "stream": "stdout",
       "text": [
        "\r",
        " Differentiating equation 66 of 116. "
       ]
      },
      {
       "output_type": "stream",
       "stream": "stdout",
       "text": [
        "\r",
        " Differentiating equation 67 of 116. "
       ]
      },
      {
       "output_type": "stream",
       "stream": "stdout",
       "text": [
        "\r",
        " Differentiating equation 68 of 116. "
       ]
      },
      {
       "output_type": "stream",
       "stream": "stdout",
       "text": [
        "\r",
        " Differentiating equation 69 of 116. "
       ]
      },
      {
       "output_type": "stream",
       "stream": "stdout",
       "text": [
        "\r",
        " Differentiating equation 70 of 116. "
       ]
      },
      {
       "output_type": "stream",
       "stream": "stdout",
       "text": [
        "\r",
        " Differentiating equation 71 of 116. "
       ]
      },
      {
       "output_type": "stream",
       "stream": "stdout",
       "text": [
        "\r",
        " Differentiating equation 72 of 116. "
       ]
      },
      {
       "output_type": "stream",
       "stream": "stdout",
       "text": [
        "\r",
        " Differentiating equation 73 of 116. "
       ]
      },
      {
       "output_type": "stream",
       "stream": "stdout",
       "text": [
        "\r",
        " Differentiating equation 74 of 116. "
       ]
      },
      {
       "output_type": "stream",
       "stream": "stdout",
       "text": [
        "\r",
        " Differentiating equation 75 of 116. "
       ]
      },
      {
       "output_type": "stream",
       "stream": "stdout",
       "text": [
        "\r",
        " Differentiating equation 76 of 116. "
       ]
      },
      {
       "output_type": "stream",
       "stream": "stdout",
       "text": [
        "\r",
        " Differentiating equation 77 of 116. "
       ]
      },
      {
       "output_type": "stream",
       "stream": "stdout",
       "text": [
        "\r",
        " Differentiating equation 78 of 116. "
       ]
      },
      {
       "output_type": "stream",
       "stream": "stdout",
       "text": [
        "\r",
        " Differentiating equation 79 of 116. "
       ]
      },
      {
       "output_type": "stream",
       "stream": "stdout",
       "text": [
        "\r",
        " Differentiating equation 80 of 116. "
       ]
      },
      {
       "output_type": "stream",
       "stream": "stdout",
       "text": [
        "\r",
        " Differentiating equation 81 of 116. "
       ]
      },
      {
       "output_type": "stream",
       "stream": "stdout",
       "text": [
        "\r",
        " Differentiating equation 82 of 116. "
       ]
      },
      {
       "output_type": "stream",
       "stream": "stdout",
       "text": [
        "\r",
        " Differentiating equation 83 of 116. "
       ]
      },
      {
       "output_type": "stream",
       "stream": "stdout",
       "text": [
        "\r",
        " Differentiating equation 84 of 116. "
       ]
      },
      {
       "output_type": "stream",
       "stream": "stdout",
       "text": [
        "\r",
        " Differentiating equation 85 of 116. "
       ]
      },
      {
       "output_type": "stream",
       "stream": "stdout",
       "text": [
        "\r",
        " Differentiating equation 86 of 116. "
       ]
      },
      {
       "output_type": "stream",
       "stream": "stdout",
       "text": [
        "\r",
        " Differentiating equation 87 of 116. "
       ]
      },
      {
       "output_type": "stream",
       "stream": "stdout",
       "text": [
        "\r",
        " Differentiating equation 88 of 116. "
       ]
      },
      {
       "output_type": "stream",
       "stream": "stdout",
       "text": [
        "\r",
        " Differentiating equation 89 of 116. "
       ]
      },
      {
       "output_type": "stream",
       "stream": "stdout",
       "text": [
        "\r",
        " Differentiating equation 90 of 116. "
       ]
      },
      {
       "output_type": "stream",
       "stream": "stdout",
       "text": [
        "\r",
        " Differentiating equation 91 of 116. "
       ]
      },
      {
       "output_type": "stream",
       "stream": "stdout",
       "text": [
        "\r",
        " Differentiating equation 92 of 116. "
       ]
      },
      {
       "output_type": "stream",
       "stream": "stdout",
       "text": [
        "\r",
        " Differentiating equation 93 of 116. "
       ]
      },
      {
       "output_type": "stream",
       "stream": "stdout",
       "text": [
        "\r",
        " Differentiating equation 94 of 116. "
       ]
      },
      {
       "output_type": "stream",
       "stream": "stdout",
       "text": [
        "\r",
        " Differentiating equation 95 of 116. "
       ]
      },
      {
       "output_type": "stream",
       "stream": "stdout",
       "text": [
        "\r",
        " Differentiating equation 96 of 116. "
       ]
      },
      {
       "output_type": "stream",
       "stream": "stdout",
       "text": [
        "\r",
        " Differentiating equation 97 of 116. "
       ]
      },
      {
       "output_type": "stream",
       "stream": "stdout",
       "text": [
        "\r",
        " Differentiating equation 98 of 116. "
       ]
      },
      {
       "output_type": "stream",
       "stream": "stdout",
       "text": [
        "\r",
        " Differentiating equation 99 of 116. "
       ]
      },
      {
       "output_type": "stream",
       "stream": "stdout",
       "text": [
        "\r",
        " Differentiating equation 100 of 116. "
       ]
      },
      {
       "output_type": "stream",
       "stream": "stdout",
       "text": [
        "\r",
        " Differentiating equation 101 of 116. "
       ]
      },
      {
       "output_type": "stream",
       "stream": "stdout",
       "text": [
        "\r",
        " Differentiating equation 102 of 116. "
       ]
      },
      {
       "output_type": "stream",
       "stream": "stdout",
       "text": [
        "\r",
        " Differentiating equation 103 of 116. "
       ]
      },
      {
       "output_type": "stream",
       "stream": "stdout",
       "text": [
        "\r",
        " Differentiating equation 104 of 116. "
       ]
      },
      {
       "output_type": "stream",
       "stream": "stdout",
       "text": [
        "\r",
        " Differentiating equation 105 of 116. "
       ]
      },
      {
       "output_type": "stream",
       "stream": "stdout",
       "text": [
        "\r",
        " Differentiating equation 106 of 116. "
       ]
      },
      {
       "output_type": "stream",
       "stream": "stdout",
       "text": [
        "\r",
        " Differentiating equation 107 of 116. "
       ]
      },
      {
       "output_type": "stream",
       "stream": "stdout",
       "text": [
        "\r",
        " Differentiating equation 108 of 116. "
       ]
      },
      {
       "output_type": "stream",
       "stream": "stdout",
       "text": [
        "\r",
        " Differentiating equation 109 of 116. "
       ]
      },
      {
       "output_type": "stream",
       "stream": "stdout",
       "text": [
        "\r",
        " Differentiating equation 110 of 116. "
       ]
      },
      {
       "output_type": "stream",
       "stream": "stdout",
       "text": [
        "\r",
        " Differentiating equation 111 of 116. "
       ]
      },
      {
       "output_type": "stream",
       "stream": "stdout",
       "text": [
        "\r",
        " Differentiating equation 112 of 116. "
       ]
      },
      {
       "output_type": "stream",
       "stream": "stdout",
       "text": [
        "\r",
        " Differentiating equation 113 of 116. "
       ]
      },
      {
       "output_type": "stream",
       "stream": "stdout",
       "text": [
        "\r",
        " Differentiating equation 114 of 116. "
       ]
      },
      {
       "output_type": "stream",
       "stream": "stdout",
       "text": [
        "\r",
        " Differentiating equation 115 of 116. "
       ]
      },
      {
       "output_type": "stream",
       "stream": "stdout",
       "text": [
        "\r",
        " Differentiating equation 116 of 116. "
       ]
      },
      {
       "output_type": "stream",
       "stream": "stdout",
       "text": [
        "\n"
       ]
      },
      {
       "output_type": "stream",
       "stream": "stdout",
       "text": [
        "\r",
        " Constructing substitution dictionary [r_dy                ] \r",
        " Constructing substitution dictionary [ONE                 ] \r",
        " Constructing substitution dictionary [MUZKSS              ] \r",
        " Constructing substitution dictionary [MUZMSS              ] \r",
        " Constructing substitution dictionary [gam_ic              ] \r",
        " Constructing substitution dictionary [gam_icd             ] \r",
        " Constructing substitution dictionary [r_dinf              ] \r",
        " Constructing substitution dictionary [rpr                 ] \r",
        " Constructing substitution dictionary [phi_u               ] \r",
        " Constructing substitution dictionary [rho_MUZK            ] \r",
        " Constructing substitution dictionary [rho_MUZM            ] \r",
        " Constructing substitution dictionary [pbeta               ] \r",
        " Constructing substitution dictionary [delta_              ] \r",
        " Constructing substitution dictionary [h_cd                ] \r",
        " Constructing substitution dictionary [h_ch                ] \r",
        " Constructing substitution dictionary [delta_cd            ] \r",
        " Constructing substitution dictionary [delta_ch            ] \r",
        " Constructing substitution dictionary [alpha_              ] \r",
        " Constructing substitution dictionary [theta_c             ] \r",
        " Constructing substitution dictionary [theta_k             ] \r",
        " Constructing substitution dictionary [g_y                 ] \r",
        " Constructing substitution dictionary [a_ks                ] \r",
        " Constructing substitution dictionary [s_AS                ] \r",
        " Constructing substitution dictionary [gam_h               ] \r",
        " Constructing substitution dictionary [gam_ech             ] \r",
        " Constructing substitution dictionary [icoef               ] \r",
        " Constructing substitution dictionary [betarl              ] \r",
        " Constructing substitution dictionary [beta_0              ] \r",
        " Constructing substitution dictionary [beta_2              ] \r",
        " Constructing substitution dictionary [beta_               ] \r",
        " Constructing substitution dictionary [MUZCSS              ] \r",
        " Constructing substitution dictionary [ONE                 ] \r",
        " Constructing substitution dictionary [USS                 ] \r",
        " Constructing substitution dictionary [MUKSS               ] \r",
        " Constructing substitution dictionary [MUCSS               ] \r",
        " Constructing substitution dictionary [MUKSShabit          ] \r",
        " Constructing substitution dictionary [MUCSShabit          ] \r",
        " Constructing substitution dictionary [PKBSS               ] \r",
        " Constructing substitution dictionary [PYSS                ] \r",
        " Constructing substitution dictionary [MCCSS               ] \r",
        " Constructing substitution dictionary [MCKSS               ] \r",
        " Constructing substitution dictionary [RKSS                ] \r",
        " Constructing substitution dictionary [RCSS                ] \r",
        " Constructing substitution dictionary [RCHSS               ] \r",
        " Constructing substitution dictionary [RCDSS               ] \r",
        " Constructing substitution dictionary [USS                 ] \r",
        " Constructing substitution dictionary [mu_                 ] \r",
        " Constructing substitution dictionary [unempSS             ] \r",
        " Constructing substitution dictionary [AA                  ] \r",
        " Constructing substitution dictionary [eta_cnn             ] \r",
        " Constructing substitution dictionary [eta_cd_eta_cnn      ] \r",
        " Constructing substitution dictionary [eta_ch_eta_cnn      ] \r",
        " Constructing substitution dictionary [eta_ch              ] \r",
        " Constructing substitution dictionary [eta_cd              ] \r",
        " Constructing substitution dictionary [DDpara              ] \r",
        " Constructing substitution dictionary [RRpara              ] \r",
        " Constructing substitution dictionary [Rnr                 ] \r",
        " Constructing substitution dictionary [ycbi_ykb            ] \r",
        " Constructing substitution dictionary [hc_hk               ] \r",
        " Constructing substitution dictionary [HSS                 ] \r",
        " Constructing substitution dictionary [AHSS                ] \r",
        " Constructing substitution dictionary [HKSS                ] \r",
        " Constructing substitution dictionary [HCSS                ] \r",
        " Constructing substitution dictionary [HrCSS               ] \r",
        " Constructing substitution dictionary [HrKSS               ] \r",
        " Constructing substitution dictionary [empCSS              ] \r",
        " Constructing substitution dictionary [empKSS              ] \r",
        " Constructing substitution dictionary [ycbi                ] \r",
        " Constructing substitution dictionary [ykb                 ] \r",
        " Constructing substitution dictionary [YCSS                ] \r",
        " Constructing substitution dictionary [YKSS                ] \r",
        " Constructing substitution dictionary [KCSS                ] \r",
        " Constructing substitution dictionary [KKSS                ] \r",
        " Constructing substitution dictionary [ECHSS               ] \r",
        " Constructing substitution dictionary [ECSS                ] \r",
        " Constructing substitution dictionary [ECDSS               ] \r",
        " Constructing substitution dictionary [EIKSS               ] \r",
        " Constructing substitution dictionary [KCDSS               ] \r",
        " Constructing substitution dictionary [KCHSS               ] \r",
        " Constructing substitution dictionary [YYSS                ] \r",
        " Constructing substitution dictionary [s_k_ecd             ] \r",
        " Constructing substitution dictionary [s_c_ech             ] \r",
        " Constructing substitution dictionary [s_k_eik             ] \r",
        " Constructing substitution dictionary [s_yc                ] \r",
        " Constructing substitution dictionary [s_ecdc              ] \r",
        " Constructing substitution dictionary [INFCNASS            ] \r",
        " Constructing substitution dictionary [INFCSS              ] \r",
        " Constructing substitution dictionary [INFCORSS            ] \r",
        " Constructing substitution dictionary [INFKSS              ] \r",
        " Constructing substitution dictionary [INFWCSS             ] \r",
        " Constructing substitution dictionary [INFWKSS             ] \r",
        " Constructing substitution dictionary [RSS                 ] \r",
        " Constructing substitution dictionary [RT2SS               ] \r",
        " Constructing substitution dictionary [INFC10SS            ] \r",
        " Constructing substitution dictionary [IMPHSSS             ] \r",
        " Constructing substitution dictionary [s_k                 ] \r",
        " Constructing substitution dictionary [INFGDPSS            ] \r",
        " Constructing substitution dictionary [LSS                 ] \r",
        " Constructing substitution dictionary [WCSS                ] \r",
        " Constructing substitution dictionary [WKSS                ] \r",
        " Constructing substitution dictionary [markup_w            ] \r",
        " Constructing substitution dictionary [theta_wc            ] \r",
        " Constructing substitution dictionary [theta_wk            ] \r",
        " Constructing substitution dictionary [xsiN_xsiH_C         ] \r",
        " Constructing substitution dictionary [xsiN_xsiH_K         ] \r",
        " Constructing substitution dictionary [A_HC                ] \r",
        " Constructing substitution dictionary [A_HK                ] \r",
        " Constructing substitution dictionary [xsi_NC              ] \r",
        " Constructing substitution dictionary [xsi_NK              ] \r",
        " Constructing substitution dictionary [xsi_HrC             ] \r",
        " Constructing substitution dictionary [xsi_HrK             ] \r",
        " Constructing substitution dictionary [HSCSS               ] \r",
        " Constructing substitution dictionary [HSKSS               ] \r",
        " Constructing substitution dictionary [empSCSS             ] \r",
        " Constructing substitution dictionary [empSKSS             ] \r",
        " Constructing substitution dictionary [gC                  ] \r",
        " Constructing substitution dictionary [markup_xsiN_C       ] \r",
        " Constructing substitution dictionary [gK                  ] \r",
        " Constructing substitution dictionary [markup_xsiN_K       ] \r",
        " Constructing substitution dictionary [UHCSS               ] \r",
        " Constructing substitution dictionary [UHKSS               ] \r",
        " Constructing substitution dictionary [HrSCSS              ] \r",
        " Constructing substitution dictionary [HrSKSS              ] \r",
        " Constructing substitution dictionary [UHSCSS              ] \r",
        " Constructing substitution dictionary [UHSKSS              ] \r",
        " Constructing substitution dictionary [QKSS                ] \r",
        " Constructing substitution dictionary [QCDSS               ] \r",
        " Constructing substitution dictionary [QCHSS               ] \r",
        " Constructing substitution dictionary [UCSS                ] \r",
        " Constructing substitution dictionary [UKSS                ] \r",
        " Constructing substitution dictionary [XiBSS               ] \r",
        " Constructing substitution dictionary [XiDSS               ] \r",
        " Constructing substitution dictionary [XiHSS               ] \r",
        " Constructing substitution dictionary [RL1SS               ] \r",
        " Constructing substitution dictionary [RL2SS               ] \r",
        " Constructing substitution dictionary [RL3SS               ] \r",
        " Constructing substitution dictionary [RL4SS               ] \r",
        " Constructing substitution dictionary [RL5SS               ] "
       ]
      },
      {
       "output_type": "stream",
       "stream": "stdout",
       "text": [
        "\r",
        " Constructing substitution dictionary [RL6SS               ] \r",
        " Constructing substitution dictionary [RL7SS               ] \r",
        " Constructing substitution dictionary [DIFFREALECSS        ] \r",
        " Constructing substitution dictionary [DIFFREALEIKSS       ] \r",
        " Constructing substitution dictionary [DIFFREALECDSS       ] \r",
        " Constructing substitution dictionary [DIFFREALECHSS       ] \r",
        " Constructing substitution dictionary [DIFFREALWSS         ] \r",
        " Constructing substitution dictionary [DIFFREALGDPSS       ]"
       ]
      },
      {
       "output_type": "stream",
       "stream": "stdout",
       "text": [
        "\n"
       ]
      }
     ],
     "prompt_number": 240
    },
    {
     "cell_type": "code",
     "collapsed": false,
     "input": [
      "nkmp_irfs['epsz']['y'].plot(linewidth=4, alpha=0.7)\n",
      "#edo_irfs['e']['y'].plot(linewidth=4, alpha=0.7)\n",
      "legend(['NKMP', 'EDO'])"
     ],
     "language": "python",
     "metadata": {},
     "outputs": [
      {
       "metadata": {},
       "output_type": "pyout",
       "prompt_number": 267,
       "text": [
        "<matplotlib.legend.Legend at 0x2ad541ddbc50>"
       ]
      },
      {
       "metadata": {},
       "output_type": "display_data",
       "png": "[encoded data removed]",
       "text": [
        "<matplotlib.figure.Figure at 0x2ad541de9850>"
       ]
      }
     ],
     "prompt_number": 267
    },
    {
     "cell_type": "code",
     "collapsed": false,
     "input": [
      "import pandas as p\n",
      "para = p.read_csv('/mq/scratch/m1eph00/dsge-book/scaling-test/c-1.00/rwmh-nkmp-nsim-100000-nblocks-1-trial1/parasim.txt', delim_whitespace=True, names=[str(x) for x in nkmp_model.parameters])\n",
      "nkmp.log_lik(para.mean())"
     ],
     "language": "python",
     "metadata": {},
     "outputs": [
      {
       "metadata": {},
       "output_type": "pyout",
       "prompt_number": 252,
       "text": [
        "-303.96019786887996"
       ]
      }
     ],
     "prompt_number": 252
    },
    {
     "cell_type": "code",
     "collapsed": false,
     "input": [
      "p0 = para.mean()\n",
      "p0[0] = 0.5\n",
      "\n",
      "nkmp.impulse_response(para.mean())['epsr']['y'].plot()\n",
      "nkmp.impulse_response(p0)['epsr']['y'].plot()\n",
      "\n",
      "p0[0] = 0.5\n",
      "nkmp.impulse_response(para.mean())['epsr']['y'].plot()\n",
      "nkmp.impulse_response(p0)['epsr']['y'].plot()\n"
     ],
     "language": "python",
     "metadata": {},
     "outputs": [
      {
       "metadata": {},
       "output_type": "pyout",
       "prompt_number": 261,
       "text": [
        "<matplotlib.axes.AxesSubplot at 0x2ad5418be590>"
       ]
      },
      {
       "metadata": {},
       "output_type": "display_data",
       "png": "[encoded data removed]",
       "text": [
        "<matplotlib.figure.Figure at 0x2ad541667b90>"
       ]
      }
     ],
     "prompt_number": 261
    },
    {
     "cell_type": "code",
     "collapsed": false,
     "input": [
      "nkmp_irfs = nkmp_1st_order.impulse_response(para.mean())\n",
      "nkmp_irfs['epsr'][['R']].plot()\n"
     ],
     "language": "python",
     "metadata": {},
     "outputs": [
      {
       "metadata": {},
       "output_type": "pyout",
       "prompt_number": 230,
       "text": [
        "<matplotlib.axes.AxesSubplot at 0x2ad54011ead0>"
       ]
      },
      {
       "metadata": {},
       "output_type": "display_data",
       "png": "[encoded data removed]",
       "text": [
        "<matplotlib.figure.Figure at 0x2ad5403469d0>"
       ]
      }
     ],
     "prompt_number": 230
    },
    {
     "cell_type": "code",
     "collapsed": false,
     "input": [
      "edo_model = DSGE.DSGE.read('/mq/home/m1eph00/python-repo/dsge/examples/edo/edo.yaml') \n",
      "edo = edo_model.compile_model()\n",
      "# To write the model in pure fortran\n",
      "# edo_model.write_fortran_module('/mq/home/m1eph00/tmp/siedo/edo-fortran')"
     ],
     "language": "python",
     "metadata": {},
     "outputs": [
      {
       "output_type": "stream",
       "stream": "stdout",
       "text": [
        "\r",
        " Differentiating equation 1 of 116. "
       ]
      },
      {
       "output_type": "stream",
       "stream": "stdout",
       "text": [
        "\r",
        " Differentiating equation 2 of 116. "
       ]
      },
      {
       "output_type": "stream",
       "stream": "stdout",
       "text": [
        "\r",
        " Differentiating equation 3 of 116. "
       ]
      },
      {
       "output_type": "stream",
       "stream": "stdout",
       "text": [
        "\r",
        " Differentiating equation 4 of 116. "
       ]
      },
      {
       "output_type": "stream",
       "stream": "stdout",
       "text": [
        "\r",
        " Differentiating equation 5 of 116. "
       ]
      },
      {
       "output_type": "stream",
       "stream": "stdout",
       "text": [
        "\r",
        " Differentiating equation 6 of 116. "
       ]
      },
      {
       "output_type": "stream",
       "stream": "stdout",
       "text": [
        "\r",
        " Differentiating equation 7 of 116. "
       ]
      },
      {
       "output_type": "stream",
       "stream": "stdout",
       "text": [
        "\r",
        " Differentiating equation 8 of 116. "
       ]
      },
      {
       "output_type": "stream",
       "stream": "stdout",
       "text": [
        "\r",
        " Differentiating equation 9 of 116. "
       ]
      },
      {
       "output_type": "stream",
       "stream": "stdout",
       "text": [
        "\r",
        " Differentiating equation 10 of 116. "
       ]
      },
      {
       "output_type": "stream",
       "stream": "stdout",
       "text": [
        "\r",
        " Differentiating equation 11 of 116. "
       ]
      },
      {
       "output_type": "stream",
       "stream": "stdout",
       "text": [
        "\r",
        " Differentiating equation 12 of 116. "
       ]
      },
      {
       "output_type": "stream",
       "stream": "stdout",
       "text": [
        "\r",
        " Differentiating equation 13 of 116. "
       ]
      },
      {
       "output_type": "stream",
       "stream": "stdout",
       "text": [
        "\r",
        " Differentiating equation 14 of 116. "
       ]
      },
      {
       "output_type": "stream",
       "stream": "stdout",
       "text": [
        "\r",
        " Differentiating equation 15 of 116. "
       ]
      },
      {
       "output_type": "stream",
       "stream": "stdout",
       "text": [
        "\r",
        " Differentiating equation 16 of 116. "
       ]
      },
      {
       "output_type": "stream",
       "stream": "stdout",
       "text": [
        "\r",
        " Differentiating equation 17 of 116. "
       ]
      },
      {
       "output_type": "stream",
       "stream": "stdout",
       "text": [
        "\r",
        " Differentiating equation 18 of 116. "
       ]
      },
      {
       "output_type": "stream",
       "stream": "stdout",
       "text": [
        "\r",
        " Differentiating equation 19 of 116. "
       ]
      },
      {
       "output_type": "stream",
       "stream": "stdout",
       "text": [
        "\r",
        " Differentiating equation 20 of 116. "
       ]
      },
      {
       "output_type": "stream",
       "stream": "stdout",
       "text": [
        "\r",
        " Differentiating equation 21 of 116. "
       ]
      },
      {
       "output_type": "stream",
       "stream": "stdout",
       "text": [
        "\r",
        " Differentiating equation 22 of 116. "
       ]
      },
      {
       "output_type": "stream",
       "stream": "stdout",
       "text": [
        "\r",
        " Differentiating equation 23 of 116. "
       ]
      },
      {
       "output_type": "stream",
       "stream": "stdout",
       "text": [
        "\r",
        " Differentiating equation 24 of 116. "
       ]
      },
      {
       "output_type": "stream",
       "stream": "stdout",
       "text": [
        "\r",
        " Differentiating equation 25 of 116. "
       ]
      },
      {
       "output_type": "stream",
       "stream": "stdout",
       "text": [
        "\r",
        " Differentiating equation 26 of 116. "
       ]
      },
      {
       "output_type": "stream",
       "stream": "stdout",
       "text": [
        "\r",
        " Differentiating equation 27 of 116. "
       ]
      },
      {
       "output_type": "stream",
       "stream": "stdout",
       "text": [
        "\r",
        " Differentiating equation 28 of 116. "
       ]
      },
      {
       "output_type": "stream",
       "stream": "stdout",
       "text": [
        "\r",
        " Differentiating equation 29 of 116. "
       ]
      },
      {
       "output_type": "stream",
       "stream": "stdout",
       "text": [
        "\r",
        " Differentiating equation 30 of 116. "
       ]
      },
      {
       "output_type": "stream",
       "stream": "stdout",
       "text": [
        "\r",
        " Differentiating equation 31 of 116. "
       ]
      },
      {
       "output_type": "stream",
       "stream": "stdout",
       "text": [
        "\r",
        " Differentiating equation 32 of 116. "
       ]
      },
      {
       "output_type": "stream",
       "stream": "stdout",
       "text": [
        "\r",
        " Differentiating equation 33 of 116. "
       ]
      },
      {
       "output_type": "stream",
       "stream": "stdout",
       "text": [
        "\r",
        " Differentiating equation 34 of 116. "
       ]
      },
      {
       "output_type": "stream",
       "stream": "stdout",
       "text": [
        "\r",
        " Differentiating equation 35 of 116. "
       ]
      },
      {
       "output_type": "stream",
       "stream": "stdout",
       "text": [
        "\r",
        " Differentiating equation 36 of 116. "
       ]
      },
      {
       "output_type": "stream",
       "stream": "stdout",
       "text": [
        "\r",
        " Differentiating equation 37 of 116. "
       ]
      },
      {
       "output_type": "stream",
       "stream": "stdout",
       "text": [
        "\r",
        " Differentiating equation 38 of 116. "
       ]
      },
      {
       "output_type": "stream",
       "stream": "stdout",
       "text": [
        "\r",
        " Differentiating equation 39 of 116. "
       ]
      },
      {
       "output_type": "stream",
       "stream": "stdout",
       "text": [
        "\r",
        " Differentiating equation 40 of 116. "
       ]
      },
      {
       "output_type": "stream",
       "stream": "stdout",
       "text": [
        "\r",
        " Differentiating equation 41 of 116. "
       ]
      },
      {
       "output_type": "stream",
       "stream": "stdout",
       "text": [
        "\r",
        " Differentiating equation 42 of 116. "
       ]
      },
      {
       "output_type": "stream",
       "stream": "stdout",
       "text": [
        "\r",
        " Differentiating equation 43 of 116. "
       ]
      },
      {
       "output_type": "stream",
       "stream": "stdout",
       "text": [
        "\r",
        " Differentiating equation 44 of 116. "
       ]
      },
      {
       "output_type": "stream",
       "stream": "stdout",
       "text": [
        "\r",
        " Differentiating equation 45 of 116. "
       ]
      },
      {
       "output_type": "stream",
       "stream": "stdout",
       "text": [
        "\r",
        " Differentiating equation 46 of 116. "
       ]
      },
      {
       "output_type": "stream",
       "stream": "stdout",
       "text": [
        "\r",
        " Differentiating equation 47 of 116. "
       ]
      },
      {
       "output_type": "stream",
       "stream": "stdout",
       "text": [
        "\r",
        " Differentiating equation 48 of 116. "
       ]
      },
      {
       "output_type": "stream",
       "stream": "stdout",
       "text": [
        "\r",
        " Differentiating equation 49 of 116. "
       ]
      },
      {
       "output_type": "stream",
       "stream": "stdout",
       "text": [
        "\r",
        " Differentiating equation 50 of 116. "
       ]
      },
      {
       "output_type": "stream",
       "stream": "stdout",
       "text": [
        "\r",
        " Differentiating equation 51 of 116. "
       ]
      },
      {
       "output_type": "stream",
       "stream": "stdout",
       "text": [
        "\r",
        " Differentiating equation 52 of 116. "
       ]
      },
      {
       "output_type": "stream",
       "stream": "stdout",
       "text": [
        "\r",
        " Differentiating equation 53 of 116. "
       ]
      },
      {
       "output_type": "stream",
       "stream": "stdout",
       "text": [
        "\r",
        " Differentiating equation 54 of 116. "
       ]
      },
      {
       "output_type": "stream",
       "stream": "stdout",
       "text": [
        "\r",
        " Differentiating equation 55 of 116. "
       ]
      },
      {
       "output_type": "stream",
       "stream": "stdout",
       "text": [
        "\r",
        " Differentiating equation 56 of 116. "
       ]
      },
      {
       "output_type": "stream",
       "stream": "stdout",
       "text": [
        "\r",
        " Differentiating equation 57 of 116. "
       ]
      },
      {
       "output_type": "stream",
       "stream": "stdout",
       "text": [
        "\r",
        " Differentiating equation 58 of 116. "
       ]
      },
      {
       "output_type": "stream",
       "stream": "stdout",
       "text": [
        "\r",
        " Differentiating equation 59 of 116. "
       ]
      },
      {
       "output_type": "stream",
       "stream": "stdout",
       "text": [
        "\r",
        " Differentiating equation 60 of 116. "
       ]
      },
      {
       "output_type": "stream",
       "stream": "stdout",
       "text": [
        "\r",
        " Differentiating equation 61 of 116. "
       ]
      },
      {
       "output_type": "stream",
       "stream": "stdout",
       "text": [
        "\r",
        " Differentiating equation 62 of 116. "
       ]
      },
      {
       "output_type": "stream",
       "stream": "stdout",
       "text": [
        "\r",
        " Differentiating equation 63 of 116. "
       ]
      },
      {
       "output_type": "stream",
       "stream": "stdout",
       "text": [
        "\r",
        " Differentiating equation 64 of 116. "
       ]
      },
      {
       "output_type": "stream",
       "stream": "stdout",
       "text": [
        "\r",
        " Differentiating equation 65 of 116. "
       ]
      },
      {
       "output_type": "stream",
       "stream": "stdout",
       "text": [
        "\r",
        " Differentiating equation 66 of 116. "
       ]
      },
      {
       "output_type": "stream",
       "stream": "stdout",
       "text": [
        "\r",
        " Differentiating equation 67 of 116. "
       ]
      },
      {
       "output_type": "stream",
       "stream": "stdout",
       "text": [
        "\r",
        " Differentiating equation 68 of 116. "
       ]
      },
      {
       "output_type": "stream",
       "stream": "stdout",
       "text": [
        "\r",
        " Differentiating equation 69 of 116. "
       ]
      },
      {
       "output_type": "stream",
       "stream": "stdout",
       "text": [
        "\r",
        " Differentiating equation 70 of 116. "
       ]
      },
      {
       "output_type": "stream",
       "stream": "stdout",
       "text": [
        "\r",
        " Differentiating equation 71 of 116. "
       ]
      },
      {
       "output_type": "stream",
       "stream": "stdout",
       "text": [
        "\r",
        " Differentiating equation 72 of 116. "
       ]
      },
      {
       "output_type": "stream",
       "stream": "stdout",
       "text": [
        "\r",
        " Differentiating equation 73 of 116. "
       ]
      },
      {
       "output_type": "stream",
       "stream": "stdout",
       "text": [
        "\r",
        " Differentiating equation 74 of 116. "
       ]
      },
      {
       "output_type": "stream",
       "stream": "stdout",
       "text": [
        "\r",
        " Differentiating equation 75 of 116. "
       ]
      },
      {
       "output_type": "stream",
       "stream": "stdout",
       "text": [
        "\r",
        " Differentiating equation 76 of 116. "
       ]
      },
      {
       "output_type": "stream",
       "stream": "stdout",
       "text": [
        "\r",
        " Differentiating equation 77 of 116. "
       ]
      },
      {
       "output_type": "stream",
       "stream": "stdout",
       "text": [
        "\r",
        " Differentiating equation 78 of 116. "
       ]
      },
      {
       "output_type": "stream",
       "stream": "stdout",
       "text": [
        "\r",
        " Differentiating equation 79 of 116. "
       ]
      },
      {
       "output_type": "stream",
       "stream": "stdout",
       "text": [
        "\r",
        " Differentiating equation 80 of 116. "
       ]
      },
      {
       "output_type": "stream",
       "stream": "stdout",
       "text": [
        "\r",
        " Differentiating equation 81 of 116. "
       ]
      },
      {
       "output_type": "stream",
       "stream": "stdout",
       "text": [
        "\r",
        " Differentiating equation 82 of 116. "
       ]
      },
      {
       "output_type": "stream",
       "stream": "stdout",
       "text": [
        "\r",
        " Differentiating equation 83 of 116. "
       ]
      },
      {
       "output_type": "stream",
       "stream": "stdout",
       "text": [
        "\r",
        " Differentiating equation 84 of 116. "
       ]
      },
      {
       "output_type": "stream",
       "stream": "stdout",
       "text": [
        "\r",
        " Differentiating equation 85 of 116. "
       ]
      },
      {
       "output_type": "stream",
       "stream": "stdout",
       "text": [
        "\r",
        " Differentiating equation 86 of 116. "
       ]
      },
      {
       "output_type": "stream",
       "stream": "stdout",
       "text": [
        "\r",
        " Differentiating equation 87 of 116. "
       ]
      },
      {
       "output_type": "stream",
       "stream": "stdout",
       "text": [
        "\r",
        " Differentiating equation 88 of 116. "
       ]
      },
      {
       "output_type": "stream",
       "stream": "stdout",
       "text": [
        "\r",
        " Differentiating equation 89 of 116. "
       ]
      },
      {
       "output_type": "stream",
       "stream": "stdout",
       "text": [
        "\r",
        " Differentiating equation 90 of 116. "
       ]
      },
      {
       "output_type": "stream",
       "stream": "stdout",
       "text": [
        "\r",
        " Differentiating equation 91 of 116. "
       ]
      },
      {
       "output_type": "stream",
       "stream": "stdout",
       "text": [
        "\r",
        " Differentiating equation 92 of 116. "
       ]
      },
      {
       "output_type": "stream",
       "stream": "stdout",
       "text": [
        "\r",
        " Differentiating equation 93 of 116. "
       ]
      },
      {
       "output_type": "stream",
       "stream": "stdout",
       "text": [
        "\r",
        " Differentiating equation 94 of 116. "
       ]
      },
      {
       "output_type": "stream",
       "stream": "stdout",
       "text": [
        "\r",
        " Differentiating equation 95 of 116. "
       ]
      },
      {
       "output_type": "stream",
       "stream": "stdout",
       "text": [
        "\r",
        " Differentiating equation 96 of 116. "
       ]
      },
      {
       "output_type": "stream",
       "stream": "stdout",
       "text": [
        "\r",
        " Differentiating equation 97 of 116. "
       ]
      },
      {
       "output_type": "stream",
       "stream": "stdout",
       "text": [
        "\r",
        " Differentiating equation 98 of 116. "
       ]
      },
      {
       "output_type": "stream",
       "stream": "stdout",
       "text": [
        "\r",
        " Differentiating equation 99 of 116. "
       ]
      },
      {
       "output_type": "stream",
       "stream": "stdout",
       "text": [
        "\r",
        " Differentiating equation 100 of 116. "
       ]
      },
      {
       "output_type": "stream",
       "stream": "stdout",
       "text": [
        "\r",
        " Differentiating equation 101 of 116. "
       ]
      },
      {
       "output_type": "stream",
       "stream": "stdout",
       "text": [
        "\r",
        " Differentiating equation 102 of 116. "
       ]
      },
      {
       "output_type": "stream",
       "stream": "stdout",
       "text": [
        "\r",
        " Differentiating equation 103 of 116. "
       ]
      },
      {
       "output_type": "stream",
       "stream": "stdout",
       "text": [
        "\r",
        " Differentiating equation 104 of 116. "
       ]
      },
      {
       "output_type": "stream",
       "stream": "stdout",
       "text": [
        "\r",
        " Differentiating equation 105 of 116. "
       ]
      },
      {
       "output_type": "stream",
       "stream": "stdout",
       "text": [
        "\r",
        " Differentiating equation 106 of 116. "
       ]
      },
      {
       "output_type": "stream",
       "stream": "stdout",
       "text": [
        "\r",
        " Differentiating equation 107 of 116. "
       ]
      },
      {
       "output_type": "stream",
       "stream": "stdout",
       "text": [
        "\r",
        " Differentiating equation 108 of 116. "
       ]
      },
      {
       "output_type": "stream",
       "stream": "stdout",
       "text": [
        "\r",
        " Differentiating equation 109 of 116. "
       ]
      },
      {
       "output_type": "stream",
       "stream": "stdout",
       "text": [
        "\r",
        " Differentiating equation 110 of 116. "
       ]
      },
      {
       "output_type": "stream",
       "stream": "stdout",
       "text": [
        "\r",
        " Differentiating equation 111 of 116. "
       ]
      },
      {
       "output_type": "stream",
       "stream": "stdout",
       "text": [
        "\r",
        " Differentiating equation 112 of 116. "
       ]
      },
      {
       "output_type": "stream",
       "stream": "stdout",
       "text": [
        "\r",
        " Differentiating equation 113 of 116. "
       ]
      },
      {
       "output_type": "stream",
       "stream": "stdout",
       "text": [
        "\r",
        " Differentiating equation 114 of 116. "
       ]
      },
      {
       "output_type": "stream",
       "stream": "stdout",
       "text": [
        "\r",
        " Differentiating equation 115 of 116. "
       ]
      },
      {
       "output_type": "stream",
       "stream": "stdout",
       "text": [
        "\r",
        " Differentiating equation 116 of 116. "
       ]
      },
      {
       "output_type": "stream",
       "stream": "stdout",
       "text": [
        "\n"
       ]
      },
      {
       "output_type": "stream",
       "stream": "stdout",
       "text": [
        "\r",
        " Constructing substitution dictionary [r_dy                ] \r",
        " Constructing substitution dictionary [ONE                 ] \r",
        " Constructing substitution dictionary [MUZKSS              ] \r",
        " Constructing substitution dictionary [MUZMSS              ] \r",
        " Constructing substitution dictionary [gam_ic              ] \r",
        " Constructing substitution dictionary [gam_icd             ] \r",
        " Constructing substitution dictionary [r_dinf              ] \r",
        " Constructing substitution dictionary [rpr                 ] \r",
        " Constructing substitution dictionary [phi_u               ] \r",
        " Constructing substitution dictionary [rho_MUZK            ] \r",
        " Constructing substitution dictionary [rho_MUZM            ] \r",
        " Constructing substitution dictionary [pbeta               ] \r",
        " Constructing substitution dictionary [delta_              ] \r",
        " Constructing substitution dictionary [h_cd                ] \r",
        " Constructing substitution dictionary [h_ch                ] \r",
        " Constructing substitution dictionary [delta_cd            ] \r",
        " Constructing substitution dictionary [delta_ch            ] \r",
        " Constructing substitution dictionary [alpha_              ] \r",
        " Constructing substitution dictionary [theta_c             ] \r",
        " Constructing substitution dictionary [theta_k             ] \r",
        " Constructing substitution dictionary [g_y                 ] \r",
        " Constructing substitution dictionary [a_ks                ] \r",
        " Constructing substitution dictionary [s_AS                ] \r",
        " Constructing substitution dictionary [gam_h               ] \r",
        " Constructing substitution dictionary [gam_ech             ] \r",
        " Constructing substitution dictionary [icoef               ] \r",
        " Constructing substitution dictionary [betarl              ] \r",
        " Constructing substitution dictionary [beta_0              ] \r",
        " Constructing substitution dictionary [beta_2              ] \r",
        " Constructing substitution dictionary [beta_               ] \r",
        " Constructing substitution dictionary [MUZCSS              ] \r",
        " Constructing substitution dictionary [ONE                 ] \r",
        " Constructing substitution dictionary [USS                 ] \r",
        " Constructing substitution dictionary [MUKSS               ] \r",
        " Constructing substitution dictionary [MUCSS               ] \r",
        " Constructing substitution dictionary [MUKSShabit          ] \r",
        " Constructing substitution dictionary [MUCSShabit          ] \r",
        " Constructing substitution dictionary [PKBSS               ] \r",
        " Constructing substitution dictionary [PYSS                ] \r",
        " Constructing substitution dictionary [MCCSS               ] \r",
        " Constructing substitution dictionary [MCKSS               ] \r",
        " Constructing substitution dictionary [RKSS                ] \r",
        " Constructing substitution dictionary [RCSS                ] \r",
        " Constructing substitution dictionary [RCHSS               ] \r",
        " Constructing substitution dictionary [RCDSS               ] \r",
        " Constructing substitution dictionary [USS                 ] \r",
        " Constructing substitution dictionary [mu_                 ] \r",
        " Constructing substitution dictionary [unempSS             ] \r",
        " Constructing substitution dictionary [AA                  ] \r",
        " Constructing substitution dictionary [eta_cnn             ] \r",
        " Constructing substitution dictionary [eta_cd_eta_cnn      ] \r",
        " Constructing substitution dictionary [eta_ch_eta_cnn      ] \r",
        " Constructing substitution dictionary [eta_ch              ] \r",
        " Constructing substitution dictionary [eta_cd              ] \r",
        " Constructing substitution dictionary [DDpara              ] \r",
        " Constructing substitution dictionary [RRpara              ] \r",
        " Constructing substitution dictionary [Rnr                 ] \r",
        " Constructing substitution dictionary [ycbi_ykb            ] \r",
        " Constructing substitution dictionary [hc_hk               ] \r",
        " Constructing substitution dictionary [HSS                 ] \r",
        " Constructing substitution dictionary [AHSS                ] \r",
        " Constructing substitution dictionary [HKSS                ] \r",
        " Constructing substitution dictionary [HCSS                ] \r",
        " Constructing substitution dictionary [HrCSS               ] \r",
        " Constructing substitution dictionary [HrKSS               ] \r",
        " Constructing substitution dictionary [empCSS              ] \r",
        " Constructing substitution dictionary [empKSS              ] \r",
        " Constructing substitution dictionary [ycbi                ] \r",
        " Constructing substitution dictionary [ykb                 ] \r",
        " Constructing substitution dictionary [YCSS                ] \r",
        " Constructing substitution dictionary [YKSS                ] \r",
        " Constructing substitution dictionary [KCSS                ] \r",
        " Constructing substitution dictionary [KKSS                ] \r",
        " Constructing substitution dictionary [ECHSS               ] \r",
        " Constructing substitution dictionary [ECSS                ] \r",
        " Constructing substitution dictionary [ECDSS               ] \r",
        " Constructing substitution dictionary [EIKSS               ] \r",
        " Constructing substitution dictionary [KCDSS               ] \r",
        " Constructing substitution dictionary [KCHSS               ] \r",
        " Constructing substitution dictionary [YYSS                ] \r",
        " Constructing substitution dictionary [s_k_ecd             ] \r",
        " Constructing substitution dictionary [s_c_ech             ] \r",
        " Constructing substitution dictionary [s_k_eik             ] \r",
        " Constructing substitution dictionary [s_yc                ] \r",
        " Constructing substitution dictionary [s_ecdc              ] \r",
        " Constructing substitution dictionary [INFCNASS            ] \r",
        " Constructing substitution dictionary [INFCSS              ] \r",
        " Constructing substitution dictionary [INFCORSS            ] \r",
        " Constructing substitution dictionary [INFKSS              ] \r",
        " Constructing substitution dictionary [INFWCSS             ] \r",
        " Constructing substitution dictionary [INFWKSS             ] \r",
        " Constructing substitution dictionary [RSS                 ] \r",
        " Constructing substitution dictionary [RT2SS               ] \r",
        " Constructing substitution dictionary [INFC10SS            ] \r",
        " Constructing substitution dictionary [IMPHSSS             ] \r",
        " Constructing substitution dictionary [s_k                 ] \r",
        " Constructing substitution dictionary [INFGDPSS            ] \r",
        " Constructing substitution dictionary [LSS                 ] \r",
        " Constructing substitution dictionary [WCSS                ] \r",
        " Constructing substitution dictionary [WKSS                ] \r",
        " Constructing substitution dictionary [markup_w            ] \r",
        " Constructing substitution dictionary [theta_wc            ] \r",
        " Constructing substitution dictionary [theta_wk            ] \r",
        " Constructing substitution dictionary [xsiN_xsiH_C         ] \r",
        " Constructing substitution dictionary [xsiN_xsiH_K         ] \r",
        " Constructing substitution dictionary [A_HC                ] \r",
        " Constructing substitution dictionary [A_HK                ] \r",
        " Constructing substitution dictionary [xsi_NC              ] \r",
        " Constructing substitution dictionary [xsi_NK              ] \r",
        " Constructing substitution dictionary [xsi_HrC             ] \r",
        " Constructing substitution dictionary [xsi_HrK             ] \r",
        " Constructing substitution dictionary [HSCSS               ] \r",
        " Constructing substitution dictionary [HSKSS               ] \r",
        " Constructing substitution dictionary [empSCSS             ] \r",
        " Constructing substitution dictionary [empSKSS             ] \r",
        " Constructing substitution dictionary [gC                  ] \r",
        " Constructing substitution dictionary [markup_xsiN_C       ] \r",
        " Constructing substitution dictionary [gK                  ] \r",
        " Constructing substitution dictionary [markup_xsiN_K       ] \r",
        " Constructing substitution dictionary [UHCSS               ] \r",
        " Constructing substitution dictionary [UHKSS               ] \r",
        " Constructing substitution dictionary [HrSCSS              ] \r",
        " Constructing substitution dictionary [HrSKSS              ] \r",
        " Constructing substitution dictionary [UHSCSS              ] \r",
        " Constructing substitution dictionary [UHSKSS              ] \r",
        " Constructing substitution dictionary [QKSS                ] \r",
        " Constructing substitution dictionary [QCDSS               ] \r",
        " Constructing substitution dictionary [QCHSS               ] \r",
        " Constructing substitution dictionary [UCSS                ] \r",
        " Constructing substitution dictionary [UKSS                ] \r",
        " Constructing substitution dictionary [XiBSS               ] \r",
        " Constructing substitution dictionary [XiDSS               ] \r",
        " Constructing substitution dictionary [XiHSS               ] \r",
        " Constructing substitution dictionary [RL1SS               ] \r",
        " Constructing substitution dictionary [RL2SS               ] \r",
        " Constructing substitution dictionary [RL3SS               ] \r",
        " Constructing substitution dictionary [RL4SS               ] \r",
        " Constructing substitution dictionary [RL5SS               ] \r",
        " Constructing substitution dictionary [RL6SS               ] \r",
        " Constructing substitution dictionary [RL7SS               ] \r",
        " Constructing substitution dictionary [DIFFREALECSS        ] \r",
        " Constructing substitution dictionary [DIFFREALEIKSS       ] \r",
        " Constructing substitution dictionary [DIFFREALECDSS       ] \r",
        " Constructing substitution dictionary [DIFFREALECHSS       ] \r",
        " Constructing substitution dictionary [DIFFREALWSS         ] \r",
        " Constructing substitution dictionary [DIFFREALGDPSS       ]"
       ]
      },
      {
       "output_type": "stream",
       "stream": "stdout",
       "text": [
        "\n"
       ]
      }
     ],
     "prompt_number": 231
    },
    {
     "cell_type": "code",
     "collapsed": false,
     "input": [
      "irfs_base = edo.impulse_response(edo_model.p0(), h=25)\n",
      "irfs['eR']['DIFFREALGDP'][:25].cumsum().plot()"
     ],
     "language": "python",
     "metadata": {},
     "outputs": [
      {
       "metadata": {},
       "output_type": "pyout",
       "prompt_number": 232,
       "text": [
        "<matplotlib.axes.AxesSubplot at 0x2ad540494f90>"
       ]
      },
      {
       "metadata": {},
       "output_type": "display_data",
       "png": "[encoded data removed]",
       "text": [
        "<matplotlib.figure.Figure at 0x2ad53a7035d0>"
       ]
      }
     ],
     "prompt_number": 232
    },
    {
     "cell_type": "code",
     "collapsed": false,
     "input": [
      "from compile_si import read\n",
      "siedo_model = read('/mq/home/m1eph00/python-repo/dsge/examples/edo/siedo.yaml')\n",
      "siedo_model.construct_sys_mat()\n",
      "siedo = siedo_model.compile_model()"
     ],
     "language": "python",
     "metadata": {},
     "outputs": [
      {
       "output_type": "stream",
       "stream": "stdout",
       "text": [
        "\r",
        " Differentiating equation   1 of 86 "
       ]
      },
      {
       "output_type": "stream",
       "stream": "stdout",
       "text": [
        "\r",
        " Differentiating equation   2 of 86 "
       ]
      },
      {
       "output_type": "stream",
       "stream": "stdout",
       "text": [
        "\r",
        " Differentiating equation   3 of 86 "
       ]
      },
      {
       "output_type": "stream",
       "stream": "stdout",
       "text": [
        "\r",
        " Differentiating equation   4 of 86 "
       ]
      },
      {
       "output_type": "stream",
       "stream": "stdout",
       "text": [
        "\r",
        " Differentiating equation   5 of 86 "
       ]
      },
      {
       "output_type": "stream",
       "stream": "stdout",
       "text": [
        "\r",
        " Differentiating equation   6 of 86 "
       ]
      },
      {
       "output_type": "stream",
       "stream": "stdout",
       "text": [
        "\r",
        " Differentiating equation   7 of 86 "
       ]
      },
      {
       "output_type": "stream",
       "stream": "stdout",
       "text": [
        "\r",
        " Differentiating equation   8 of 86 "
       ]
      },
      {
       "output_type": "stream",
       "stream": "stdout",
       "text": [
        "\r",
        " Differentiating equation   9 of 86 "
       ]
      },
      {
       "output_type": "stream",
       "stream": "stdout",
       "text": [
        "\r",
        " Differentiating equation  10 of 86 "
       ]
      },
      {
       "output_type": "stream",
       "stream": "stdout",
       "text": [
        "\r",
        " Differentiating equation  11 of 86 "
       ]
      },
      {
       "output_type": "stream",
       "stream": "stdout",
       "text": [
        "\r",
        " Differentiating equation  12 of 86 "
       ]
      },
      {
       "output_type": "stream",
       "stream": "stdout",
       "text": [
        "\r",
        " Differentiating equation  13 of 86 "
       ]
      },
      {
       "output_type": "stream",
       "stream": "stdout",
       "text": [
        "\r",
        " Differentiating equation  14 of 86 "
       ]
      },
      {
       "output_type": "stream",
       "stream": "stdout",
       "text": [
        "\r",
        " Differentiating equation  15 of 86 "
       ]
      },
      {
       "output_type": "stream",
       "stream": "stdout",
       "text": [
        "\r",
        " Differentiating equation  16 of 86 "
       ]
      },
      {
       "output_type": "stream",
       "stream": "stdout",
       "text": [
        "\r",
        " Differentiating equation  17 of 86 "
       ]
      },
      {
       "output_type": "stream",
       "stream": "stdout",
       "text": [
        "\r",
        " Differentiating equation  18 of 86 "
       ]
      },
      {
       "output_type": "stream",
       "stream": "stdout",
       "text": [
        "\r",
        " Differentiating equation  19 of 86 "
       ]
      },
      {
       "output_type": "stream",
       "stream": "stdout",
       "text": [
        "\r",
        " Differentiating equation  20 of 86 "
       ]
      },
      {
       "output_type": "stream",
       "stream": "stdout",
       "text": [
        "\r",
        " Differentiating equation  21 of 86 "
       ]
      },
      {
       "output_type": "stream",
       "stream": "stdout",
       "text": [
        "\r",
        " Differentiating equation  22 of 86 "
       ]
      },
      {
       "output_type": "stream",
       "stream": "stdout",
       "text": [
        "\r",
        " Differentiating equation  23 of 86 "
       ]
      },
      {
       "output_type": "stream",
       "stream": "stdout",
       "text": [
        "\r",
        " Differentiating equation  24 of 86 "
       ]
      },
      {
       "output_type": "stream",
       "stream": "stdout",
       "text": [
        "\r",
        " Differentiating equation  25 of 86 "
       ]
      },
      {
       "output_type": "stream",
       "stream": "stdout",
       "text": [
        "\r",
        " Differentiating equation  26 of 86 "
       ]
      },
      {
       "output_type": "stream",
       "stream": "stdout",
       "text": [
        "\r",
        " Differentiating equation  27 of 86 "
       ]
      },
      {
       "output_type": "stream",
       "stream": "stdout",
       "text": [
        "\r",
        " Differentiating equation  28 of 86 "
       ]
      },
      {
       "output_type": "stream",
       "stream": "stdout",
       "text": [
        "\r",
        " Differentiating equation  29 of 86 "
       ]
      },
      {
       "output_type": "stream",
       "stream": "stdout",
       "text": [
        "\r",
        " Differentiating equation  30 of 86 "
       ]
      },
      {
       "output_type": "stream",
       "stream": "stdout",
       "text": [
        "\r",
        " Differentiating equation  31 of 86 "
       ]
      },
      {
       "output_type": "stream",
       "stream": "stdout",
       "text": [
        "\r",
        " Differentiating equation  32 of 86 "
       ]
      },
      {
       "output_type": "stream",
       "stream": "stdout",
       "text": [
        "\r",
        " Differentiating equation  33 of 86 "
       ]
      },
      {
       "output_type": "stream",
       "stream": "stdout",
       "text": [
        "\r",
        " Differentiating equation  34 of 86 "
       ]
      },
      {
       "output_type": "stream",
       "stream": "stdout",
       "text": [
        "\r",
        " Differentiating equation  35 of 86 "
       ]
      },
      {
       "output_type": "stream",
       "stream": "stdout",
       "text": [
        "\r",
        " Differentiating equation  36 of 86 "
       ]
      },
      {
       "output_type": "stream",
       "stream": "stdout",
       "text": [
        "\r",
        " Differentiating equation  37 of 86 "
       ]
      },
      {
       "output_type": "stream",
       "stream": "stdout",
       "text": [
        "\r",
        " Differentiating equation  38 of 86 "
       ]
      },
      {
       "output_type": "stream",
       "stream": "stdout",
       "text": [
        "\r",
        " Differentiating equation  39 of 86 "
       ]
      },
      {
       "output_type": "stream",
       "stream": "stdout",
       "text": [
        "\r",
        " Differentiating equation  40 of 86 "
       ]
      },
      {
       "output_type": "stream",
       "stream": "stdout",
       "text": [
        "\r",
        " Differentiating equation  41 of 86 "
       ]
      },
      {
       "output_type": "stream",
       "stream": "stdout",
       "text": [
        "\r",
        " Differentiating equation  42 of 86 "
       ]
      },
      {
       "output_type": "stream",
       "stream": "stdout",
       "text": [
        "\r",
        " Differentiating equation  43 of 86 "
       ]
      },
      {
       "output_type": "stream",
       "stream": "stdout",
       "text": [
        "\r",
        " Differentiating equation  44 of 86 "
       ]
      },
      {
       "output_type": "stream",
       "stream": "stdout",
       "text": [
        "\r",
        " Differentiating equation  45 of 86 "
       ]
      },
      {
       "output_type": "stream",
       "stream": "stdout",
       "text": [
        "\r",
        " Differentiating equation  46 of 86 "
       ]
      },
      {
       "output_type": "stream",
       "stream": "stdout",
       "text": [
        "\r",
        " Differentiating equation  47 of 86 "
       ]
      },
      {
       "output_type": "stream",
       "stream": "stdout",
       "text": [
        "\r",
        " Differentiating equation  48 of 86 "
       ]
      },
      {
       "output_type": "stream",
       "stream": "stdout",
       "text": [
        "\r",
        " Differentiating equation  49 of 86 "
       ]
      },
      {
       "output_type": "stream",
       "stream": "stdout",
       "text": [
        "\r",
        " Differentiating equation  50 of 86 "
       ]
      },
      {
       "output_type": "stream",
       "stream": "stdout",
       "text": [
        "\r",
        " Differentiating equation  51 of 86 "
       ]
      },
      {
       "output_type": "stream",
       "stream": "stdout",
       "text": [
        "\r",
        " Differentiating equation  52 of 86 "
       ]
      },
      {
       "output_type": "stream",
       "stream": "stdout",
       "text": [
        "\r",
        " Differentiating equation  53 of 86 "
       ]
      },
      {
       "output_type": "stream",
       "stream": "stdout",
       "text": [
        "\r",
        " Differentiating equation  54 of 86 "
       ]
      },
      {
       "output_type": "stream",
       "stream": "stdout",
       "text": [
        "\r",
        " Differentiating equation  55 of 86 "
       ]
      },
      {
       "output_type": "stream",
       "stream": "stdout",
       "text": [
        "\r",
        " Differentiating equation  56 of 86 "
       ]
      },
      {
       "output_type": "stream",
       "stream": "stdout",
       "text": [
        "\r",
        " Differentiating equation  57 of 86 "
       ]
      },
      {
       "output_type": "stream",
       "stream": "stdout",
       "text": [
        "\r",
        " Differentiating equation  58 of 86 "
       ]
      },
      {
       "output_type": "stream",
       "stream": "stdout",
       "text": [
        "\r",
        " Differentiating equation  59 of 86 "
       ]
      },
      {
       "output_type": "stream",
       "stream": "stdout",
       "text": [
        "\r",
        " Differentiating equation  60 of 86 "
       ]
      },
      {
       "output_type": "stream",
       "stream": "stdout",
       "text": [
        "\r",
        " Differentiating equation  61 of 86 "
       ]
      },
      {
       "output_type": "stream",
       "stream": "stdout",
       "text": [
        "\r",
        " Differentiating equation  62 of 86 "
       ]
      },
      {
       "output_type": "stream",
       "stream": "stdout",
       "text": [
        "\r",
        " Differentiating equation  63 of 86 "
       ]
      },
      {
       "output_type": "stream",
       "stream": "stdout",
       "text": [
        "\r",
        " Differentiating equation  64 of 86 "
       ]
      },
      {
       "output_type": "stream",
       "stream": "stdout",
       "text": [
        "\r",
        " Differentiating equation  65 of 86 "
       ]
      },
      {
       "output_type": "stream",
       "stream": "stdout",
       "text": [
        "\r",
        " Differentiating equation  66 of 86 "
       ]
      },
      {
       "output_type": "stream",
       "stream": "stdout",
       "text": [
        "\r",
        " Differentiating equation  67 of 86 "
       ]
      },
      {
       "output_type": "stream",
       "stream": "stdout",
       "text": [
        "\r",
        " Differentiating equation  68 of 86 "
       ]
      },
      {
       "output_type": "stream",
       "stream": "stdout",
       "text": [
        "\r",
        " Differentiating equation  69 of 86 "
       ]
      },
      {
       "output_type": "stream",
       "stream": "stdout",
       "text": [
        "\r",
        " Differentiating equation  70 of 86 "
       ]
      },
      {
       "output_type": "stream",
       "stream": "stdout",
       "text": [
        "\r",
        " Differentiating equation  71 of 86 "
       ]
      },
      {
       "output_type": "stream",
       "stream": "stdout",
       "text": [
        "\r",
        " Differentiating equation  72 of 86 "
       ]
      },
      {
       "output_type": "stream",
       "stream": "stdout",
       "text": [
        "\r",
        " Differentiating equation  73 of 86 "
       ]
      },
      {
       "output_type": "stream",
       "stream": "stdout",
       "text": [
        "\r",
        " Differentiating equation  74 of 86 "
       ]
      },
      {
       "output_type": "stream",
       "stream": "stdout",
       "text": [
        "\r",
        " Differentiating equation  75 of 86 "
       ]
      },
      {
       "output_type": "stream",
       "stream": "stdout",
       "text": [
        "\r",
        " Differentiating equation  76 of 86 "
       ]
      },
      {
       "output_type": "stream",
       "stream": "stdout",
       "text": [
        "\r",
        " Differentiating equation  77 of 86 "
       ]
      },
      {
       "output_type": "stream",
       "stream": "stdout",
       "text": [
        "\r",
        " Differentiating equation  78 of 86 "
       ]
      },
      {
       "output_type": "stream",
       "stream": "stdout",
       "text": [
        "\r",
        " Differentiating equation  79 of 86 "
       ]
      },
      {
       "output_type": "stream",
       "stream": "stdout",
       "text": [
        "\r",
        " Differentiating equation  80 of 86 "
       ]
      },
      {
       "output_type": "stream",
       "stream": "stdout",
       "text": [
        "\r",
        " Differentiating equation  81 of 86 "
       ]
      },
      {
       "output_type": "stream",
       "stream": "stdout",
       "text": [
        "\r",
        " Differentiating equation  82 of 86 "
       ]
      },
      {
       "output_type": "stream",
       "stream": "stdout",
       "text": [
        "\r",
        " Differentiating equation  83 of 86 "
       ]
      },
      {
       "output_type": "stream",
       "stream": "stdout",
       "text": [
        "\r",
        " Differentiating equation  84 of 86 "
       ]
      },
      {
       "output_type": "stream",
       "stream": "stdout",
       "text": [
        "\r",
        " Differentiating equation  85 of 86 "
       ]
      },
      {
       "output_type": "stream",
       "stream": "stdout",
       "text": [
        "\r",
        " Differentiating equation  86 of 86 \n",
        "\r",
        " Constructing substitution dictionary [r_dy                ] \r",
        " Constructing substitution dictionary [ONE                 ] \r",
        " Constructing substitution dictionary [MUZKSS              ] \r",
        " Constructing substitution dictionary [MUZMSS              ] \r",
        " Constructing substitution dictionary [gam_ic              ] \r",
        " Constructing substitution dictionary [gam_icd             ] \r",
        " Constructing substitution dictionary [r_dinf              ] \r",
        " Constructing substitution dictionary [rpr                 ] \r",
        " Constructing substitution dictionary [phi_u               ] \r",
        " Constructing substitution dictionary [rho_MUZK            ] \r",
        " Constructing substitution dictionary [rho_MUZM            ] \r",
        " Constructing substitution dictionary [pbeta               ] \r",
        " Constructing substitution dictionary [delta_              ] \r",
        " Constructing substitution dictionary [h_cd                ] \r",
        " Constructing substitution dictionary [h_ch                ] \r",
        " Constructing substitution dictionary [delta_cd            ] \r",
        " Constructing substitution dictionary [delta_ch            ] \r",
        " Constructing substitution dictionary [alpha_              ] \r",
        " Constructing substitution dictionary [theta_c             ] \r",
        " Constructing substitution dictionary [theta_k             ] \r",
        " Constructing substitution dictionary [g_y                 ] \r",
        " Constructing substitution dictionary [a_ks                ] \r",
        " Constructing substitution dictionary [s_AS                ] \r",
        " Constructing substitution dictionary [gam_h               ] \r",
        " Constructing substitution dictionary [gam_ech             ] \r",
        " Constructing substitution dictionary [icoef               ] \r",
        " Constructing substitution dictionary [betarl              ] \r",
        " Constructing substitution dictionary [beta_0              ] \r",
        " Constructing substitution dictionary [beta_2              ] \r",
        " Constructing substitution dictionary [beta_               ] \r",
        " Constructing substitution dictionary [MUZCSS              ] \r",
        " Constructing substitution dictionary [ONE                 ] \r",
        " Constructing substitution dictionary [USS                 ] \r",
        " Constructing substitution dictionary [MUKSS               ] \r",
        " Constructing substitution dictionary [MUCSS               ] \r",
        " Constructing substitution dictionary [MUKSShabit          ] \r",
        " Constructing substitution dictionary [MUCSShabit          ] \r",
        " Constructing substitution dictionary [PKBSS               ] \r",
        " Constructing substitution dictionary [PYSS                ] \r",
        " Constructing substitution dictionary [MCCSS               ] \r",
        " Constructing substitution dictionary [MCKSS               ] \r",
        " Constructing substitution dictionary [RKSS                ] \r",
        " Constructing substitution dictionary [RCSS                ] \r",
        " Constructing substitution dictionary [RCHSS               ] \r",
        " Constructing substitution dictionary [RCDSS               ] \r",
        " Constructing substitution dictionary [USS                 ] \r",
        " Constructing substitution dictionary [mu_                 ] \r",
        " Constructing substitution dictionary [unempSS             ] \r",
        " Constructing substitution dictionary [AA                  ] \r",
        " Constructing substitution dictionary [eta_cnn             ] \r",
        " Constructing substitution dictionary [eta_cd_eta_cnn      ] \r",
        " Constructing substitution dictionary [eta_ch_eta_cnn      ] \r",
        " Constructing substitution dictionary [eta_ch              ] \r",
        " Constructing substitution dictionary [eta_cd              ] \r",
        " Constructing substitution dictionary [DDpara              ] \r",
        " Constructing substitution dictionary [RRpara              ] \r",
        " Constructing substitution dictionary [Rnr                 ] \r",
        " Constructing substitution dictionary [ycbi_ykb            ] \r",
        " Constructing substitution dictionary [hc_hk               ] \r",
        " Constructing substitution dictionary [HSS                 ] \r",
        " Constructing substitution dictionary [AHSS                ] \r",
        " Constructing substitution dictionary [HKSS                ] \r",
        " Constructing substitution dictionary [HCSS                ] \r",
        " Constructing substitution dictionary [HrCSS               ] \r",
        " Constructing substitution dictionary [HrKSS               ] \r",
        " Constructing substitution dictionary [empCSS              ] \r",
        " Constructing substitution dictionary [empKSS              ] \r",
        " Constructing substitution dictionary [ycbi                ] \r",
        " Constructing substitution dictionary [ykb                 ] \r",
        " Constructing substitution dictionary [YCSS                ] \r",
        " Constructing substitution dictionary [YKSS                ] \r",
        " Constructing substitution dictionary [KCSS                ] \r",
        " Constructing substitution dictionary [KKSS                ] \r",
        " Constructing substitution dictionary [ECHSS               ] \r",
        " Constructing substitution dictionary [ECSS                ] \r",
        " Constructing substitution dictionary [ECDSS               ] \r",
        " Constructing substitution dictionary [EIKSS               ] \r",
        " Constructing substitution dictionary [KCDSS               ] \r",
        " Constructing substitution dictionary [KCHSS               ] \r",
        " Constructing substitution dictionary [YYSS                ] \r",
        " Constructing substitution dictionary [s_k_ecd             ] \r",
        " Constructing substitution dictionary [s_c_ech             ] \r",
        " Constructing substitution dictionary [s_k_eik             ] \r",
        " Constructing substitution dictionary [s_yc                ] \r",
        " Constructing substitution dictionary [s_ecdc              ] \r",
        " Constructing substitution dictionary [INFCNASS            ] \r",
        " Constructing substitution dictionary [INFCSS              ] \r",
        " Constructing substitution dictionary [INFCORSS            ] \r",
        " Constructing substitution dictionary [INFKSS              ] \r",
        " Constructing substitution dictionary [INFWCSS             ] \r",
        " Constructing substitution dictionary [INFWKSS             ] \r",
        " Constructing substitution dictionary [RSS                 ] \r",
        " Constructing substitution dictionary [RT2SS               ] \r",
        " Constructing substitution dictionary [INFC10SS            ] \r",
        " Constructing substitution dictionary [IMPHSSS             ] \r",
        " Constructing substitution dictionary [s_k                 ] \r",
        " Constructing substitution dictionary [INFGDPSS            ] \r",
        " Constructing substitution dictionary [LSS                 ] \r",
        " Constructing substitution dictionary [WCSS                ] \r",
        " Constructing substitution dictionary [WKSS                ] \r",
        " Constructing substitution dictionary [markup_w            ] \r",
        " Constructing substitution dictionary [theta_wc            ] \r",
        " Constructing substitution dictionary [theta_wk            ] \r",
        " Constructing substitution dictionary [xsiN_xsiH_C         ] \r",
        " Constructing substitution dictionary [xsiN_xsiH_K         ] \r",
        " Constructing substitution dictionary [A_HC                ] \r",
        " Constructing substitution dictionary [A_HK                ] \r",
        " Constructing substitution dictionary [xsi_NC              ] \r",
        " Constructing substitution dictionary [xsi_NK              ] \r",
        " Constructing substitution dictionary [xsi_HrC             ] \r",
        " Constructing substitution dictionary [xsi_HrK             ] \r",
        " Constructing substitution dictionary [HSCSS               ] \r",
        " Constructing substitution dictionary [HSKSS               ] \r",
        " Constructing substitution dictionary [empSCSS             ] \r",
        " Constructing substitution dictionary [empSKSS             ] \r",
        " Constructing substitution dictionary [gC                  ] \r",
        " Constructing substitution dictionary [markup_xsiN_C       ] \r",
        " Constructing substitution dictionary [gK                  ] \r",
        " Constructing substitution dictionary [markup_xsiN_K       ] \r",
        " Constructing substitution dictionary [UHCSS               ] \r",
        " Constructing substitution dictionary [UHKSS               ] \r",
        " Constructing substitution dictionary [HrSCSS              ] \r",
        " Constructing substitution dictionary [HrSKSS              ] \r",
        " Constructing substitution dictionary [UHSCSS              ] \r",
        " Constructing substitution dictionary [UHSKSS              ] \r",
        " Constructing substitution dictionary [QKSS                ] \r",
        " Constructing substitution dictionary [QCDSS               ] \r",
        " Constructing substitution dictionary [QCHSS               ] \r",
        " Constructing substitution dictionary [UCSS                ] \r",
        " Constructing substitution dictionary [UKSS                ] \r",
        " Constructing substitution dictionary [XiBSS               ] \r",
        " Constructing substitution dictionary [XiDSS               ] \r",
        " Constructing substitution dictionary [XiHSS               ] \r",
        " Constructing substitution dictionary [RL1SS               ] \r",
        " Constructing substitution dictionary [RL2SS               ] \r",
        " Constructing substitution dictionary [RL3SS               ] \r",
        " Constructing substitution dictionary [RL4SS               ] \r",
        " Constructing substitution dictionary [RL5SS               ] \r",
        " Constructing substitution dictionary [RL6SS               ] \r",
        " Constructing substitution dictionary [RL7SS               ] \r",
        " Constructing substitution dictionary [DIFFREALECSS        ] \r",
        " Constructing substitution dictionary [DIFFREALEIKSS       ] \r",
        " Constructing substitution dictionary [DIFFREALECDSS       ] \r",
        " Constructing substitution dictionary [DIFFREALECHSS       ] \r",
        " Constructing substitution dictionary [DIFFREALWSS         ] \r",
        " Constructing substitution dictionary [DIFFREALGDPSS       ] "
       ]
      },
      {
       "output_type": "stream",
       "stream": "stdout",
       "text": [
        "zero matrices done\n",
        "jth matrices done"
       ]
      },
      {
       "output_type": "stream",
       "stream": "stdout",
       "text": [
        "\n",
        "System matrices constructed."
       ]
      },
      {
       "output_type": "stream",
       "stream": "stdout",
       "text": [
        "\n"
       ]
      }
     ],
     "prompt_number": 233
    },
    {
     "cell_type": "code",
     "collapsed": false,
     "input": [
      "from scipy.stats import norm\n",
      "\n",
      "import sympy\n",
      "\n",
      "x = sympy.symbols('x')\n",
      "\n",
      "f = sympy.Function('f')\n",
      "from sympy.utilities.lambdify import lambdify, lambdastr\n",
      "from sympy.matrices import Matrix\n",
      "q = Matrix([f(x), x])\n",
      "from scipy.stats import t\n",
      "\n",
      "def my_func(x):\n",
      "    return t.cdf(x, 5)\n",
      "\n",
      "psi = lambdify(x, [f(x), x, x, x, f(x), x], modules={'f': my_func})\n",
      "psi(0.1)\n",
      "lambdify(x, q, modules={'f': my_func, 'MutableDenseMatrix':sympy.Matrix})(0.1)"
     ],
     "language": "python",
     "metadata": {},
     "outputs": [
      {
       "metadata": {},
       "output_type": "pyout",
       "prompt_number": 218,
       "text": [
        "Matrix([\n",
        "[0.53788492942267],\n",
        "[             0.1]])"
       ]
      }
     ],
     "prompt_number": 218
    },
    {
     "cell_type": "code",
     "collapsed": false,
     "input": [
      "p0 = np.loadtxt('/mq/scratch/m1eph00/siedo/smc-siedo-mix-npart-4800-nintmh-1-nphi-500-prior-b3-trial2-phi-4.0/442mean.txt')\n",
      "siedo_para = dict(zip(siedo_model.parameters, p0))\n",
      "\n",
      "for para in edo_model.parameters:\n",
      "    print \"{0:12s} {1: 7.3f} {2: 7.3f}\".format(para, edo_model['calibration'][str(para)], siedo_para[para])\n",
      "    "
     ],
     "language": "python",
     "metadata": {},
     "outputs": [
      {
       "output_type": "stream",
       "stream": "stdout",
       "text": [
        "h              0.715   0.642\n",
        "r_inf          1.463   1.527\n",
        "r_y            0.263   0.228\n",
        "phi_pc         3.545   3.426\n",
        "phi_H          3.229   0.652\n",
        "phi_wc         5.494   3.965\n",
        "phi_ic         0.253   0.182\n",
        "phi_cd         0.470   0.605\n",
        "phi_ech        9.140   6.851\n",
        "gam_pc         0.314   0.077\n",
        "gam_wc        -0.230  -0.067\n",
        "rho_R          0.833   0.793\n",
        "rho_B          0.895   0.869\n",
        "rho_STAR       0.909   0.892\n",
        "rho_EFFK       0.938   0.839\n",
        "rho_EFFECD    -0.240  -0.051\n",
        "rho_HG         0.582   0.517\n",
        "rho_EFFECH     0.877   0.799\n",
        "rho_XiL        0.264   0.806\n",
        "rho_lpref      0.979   0.942\n",
        "tp2            0.000   0.000\n",
        "sigman        39.408   7.135\n",
        "sigmah        21.886   2.089\n",
        "sig_HG         0.579   0.699\n",
        "sig_XiL        2.493   1.356\n",
        "sig_lpref      5.665   1.225\n",
        "sig_R          0.124   0.130\n",
        "sig_MUZK       0.936   1.282\n",
        "sig_MUZM       0.597   0.548\n",
        "sig_PMKC       0.452   0.120\n",
        "sig_PMKK       0.685   0.224\n",
        "sig_EFFECH     0.515   0.788\n",
        "sig_EFFECD     9.112   5.760\n",
        "sig_EFFK       0.403   0.574\n",
        "sig_B          0.295   0.317\n",
        "sig_STAR       0.105   0.110\n"
       ]
      }
     ],
     "prompt_number": 234
    },
    {
     "cell_type": "code",
     "collapsed": false,
     "input": [
      "# p0 = np.array([siedo_model['calibration'][str(px)] for px in siedo_model.parameters])\n",
      "# p0[-4:] = 0.04\n",
      "# p0[-2:] = 0.17\n",
      "irfs = siedo.impulse_response(p0, h=26)\n",
      "\n",
      "v = 'unemp'\n",
      "s = 'eLpref'\n",
      "irfs[s][v].plot(color='Black', alpha=0.8, linewidth=4)\n",
      "irfs_base[s][v].plot(color='Grey', alpha=0.8, linewidth=4)\n",
      "legend([r'${SIEDO}$', r'$EDO$'], fontsize=18, loc='upper right')\n",
      "title('{0} -> {1}'.format(s, v))"
     ],
     "language": "python",
     "metadata": {},
     "outputs": [
      {
       "ename": "TypeError",
       "evalue": "<lambda>() takes exactly 40 arguments (13 given)",
       "output_type": "pyerr",
       "traceback": [
        "\u001b[1;31m---------------------------------------------------------------------------\u001b[0m\n\u001b[1;31mTypeError\u001b[0m                                 Traceback (most recent call last)",
        "\u001b[1;32m<ipython-input-219-e110f7badbfe>\u001b[0m in \u001b[0;36m<module>\u001b[1;34m()\u001b[0m\n\u001b[0;32m      2\u001b[0m \u001b[1;31m# p0[-4:] = 0.04\u001b[0m\u001b[1;33m\u001b[0m\u001b[1;33m\u001b[0m\u001b[0m\n\u001b[0;32m      3\u001b[0m \u001b[1;31m# p0[-2:] = 0.17\u001b[0m\u001b[1;33m\u001b[0m\u001b[1;33m\u001b[0m\u001b[0m\n\u001b[1;32m----> 4\u001b[1;33m \u001b[0mirfs\u001b[0m \u001b[1;33m=\u001b[0m \u001b[0msiedo\u001b[0m\u001b[1;33m.\u001b[0m\u001b[0mimpulse_response\u001b[0m\u001b[1;33m(\u001b[0m\u001b[0mp0\u001b[0m\u001b[1;33m,\u001b[0m \u001b[0mh\u001b[0m\u001b[1;33m=\u001b[0m\u001b[1;36m26\u001b[0m\u001b[1;33m)\u001b[0m\u001b[1;33m\u001b[0m\u001b[0m\n\u001b[0m\u001b[0;32m      5\u001b[0m \u001b[1;33m\u001b[0m\u001b[0m\n\u001b[0;32m      6\u001b[0m \u001b[0mv\u001b[0m \u001b[1;33m=\u001b[0m \u001b[1;34m'unemp'\u001b[0m\u001b[1;33m\u001b[0m\u001b[0m\n",
        "\u001b[1;32m/lcl/mq/home/m1eph00/python-repo/dsge/StateSpaceModel.py\u001b[0m in \u001b[0;36mimpulse_response\u001b[1;34m(self, p0, h)\u001b[0m\n\u001b[0;32m    216\u001b[0m     \u001b[1;32mdef\u001b[0m \u001b[0mimpulse_response\u001b[0m\u001b[1;33m(\u001b[0m\u001b[0mself\u001b[0m\u001b[1;33m,\u001b[0m \u001b[0mp0\u001b[0m\u001b[1;33m,\u001b[0m \u001b[0mh\u001b[0m\u001b[1;33m=\u001b[0m\u001b[1;36m20\u001b[0m\u001b[1;33m)\u001b[0m\u001b[1;33m:\u001b[0m\u001b[1;33m\u001b[0m\u001b[0m\n\u001b[0;32m    217\u001b[0m \u001b[1;33m\u001b[0m\u001b[0m\n\u001b[1;32m--> 218\u001b[1;33m         \u001b[0mA\u001b[0m \u001b[1;33m=\u001b[0m \u001b[0mnp\u001b[0m\u001b[1;33m.\u001b[0m\u001b[0marray\u001b[0m\u001b[1;33m(\u001b[0m\u001b[0mself\u001b[0m\u001b[1;33m.\u001b[0m\u001b[0mA\u001b[0m\u001b[1;33m(\u001b[0m\u001b[0mp0\u001b[0m\u001b[1;33m)\u001b[0m\u001b[1;33m,\u001b[0m \u001b[0mdtype\u001b[0m\u001b[1;33m=\u001b[0m\u001b[0mfloat\u001b[0m\u001b[1;33m)\u001b[0m\u001b[1;33m\u001b[0m\u001b[0m\n\u001b[0m\u001b[0;32m    219\u001b[0m         \u001b[0mB\u001b[0m \u001b[1;33m=\u001b[0m \u001b[0mnp\u001b[0m\u001b[1;33m.\u001b[0m\u001b[0marray\u001b[0m\u001b[1;33m(\u001b[0m\u001b[0mself\u001b[0m\u001b[1;33m.\u001b[0m\u001b[0mB\u001b[0m\u001b[1;33m(\u001b[0m\u001b[0mp0\u001b[0m\u001b[1;33m)\u001b[0m\u001b[1;33m,\u001b[0m \u001b[0mdtype\u001b[0m\u001b[1;33m=\u001b[0m\u001b[0mfloat\u001b[0m\u001b[1;33m)\u001b[0m\u001b[1;33m\u001b[0m\u001b[0m\n\u001b[0;32m    220\u001b[0m         \u001b[0mC\u001b[0m \u001b[1;33m=\u001b[0m \u001b[0mnp\u001b[0m\u001b[1;33m.\u001b[0m\u001b[0marray\u001b[0m\u001b[1;33m(\u001b[0m\u001b[0mself\u001b[0m\u001b[1;33m.\u001b[0m\u001b[0mC\u001b[0m\u001b[1;33m(\u001b[0m\u001b[0mp0\u001b[0m\u001b[1;33m)\u001b[0m\u001b[1;33m,\u001b[0m \u001b[0mdtype\u001b[0m\u001b[1;33m=\u001b[0m\u001b[0mfloat\u001b[0m\u001b[1;33m)\u001b[0m\u001b[1;33m\u001b[0m\u001b[0m\n",
        "\u001b[1;32m/mq/home/m1eph00/code/test/python_compiler/SIDSGE.pyc\u001b[0m in \u001b[0;36m<lambda>\u001b[1;34m(x)\u001b[0m\n\u001b[0;32m    491\u001b[0m     \u001b[1;32mdef\u001b[0m \u001b[0mcompile_model\u001b[0m\u001b[1;33m(\u001b[0m\u001b[0mself\u001b[0m\u001b[1;33m)\u001b[0m\u001b[1;33m:\u001b[0m\u001b[1;33m\u001b[0m\u001b[0m\n\u001b[0;32m    492\u001b[0m \u001b[1;33m\u001b[0m\u001b[0m\n\u001b[1;32m--> 493\u001b[1;33m         \u001b[0mA\u001b[0m \u001b[1;33m=\u001b[0m \u001b[1;32mlambda\u001b[0m \u001b[0mx\u001b[0m\u001b[1;33m:\u001b[0m \u001b[0mself\u001b[0m\u001b[1;33m.\u001b[0m\u001b[0m_A\u001b[0m\u001b[1;33m(\u001b[0m\u001b[0mx\u001b[0m\u001b[1;33m)\u001b[0m\u001b[1;33m\u001b[0m\u001b[0m\n\u001b[0m\u001b[0;32m    494\u001b[0m         \u001b[0mB\u001b[0m \u001b[1;33m=\u001b[0m \u001b[1;32mlambda\u001b[0m \u001b[0mx\u001b[0m\u001b[1;33m:\u001b[0m \u001b[0mself\u001b[0m\u001b[1;33m.\u001b[0m\u001b[0m_B\u001b[0m\u001b[1;33m(\u001b[0m\u001b[0mx\u001b[0m\u001b[1;33m)\u001b[0m\u001b[1;33m\u001b[0m\u001b[0m\n\u001b[0;32m    495\u001b[0m         \u001b[0mC\u001b[0m \u001b[1;33m=\u001b[0m \u001b[1;32mlambda\u001b[0m \u001b[0mx\u001b[0m\u001b[1;33m:\u001b[0m \u001b[0mself\u001b[0m\u001b[1;33m.\u001b[0m\u001b[0m_C\u001b[0m\u001b[1;33m(\u001b[0m\u001b[0mx\u001b[0m\u001b[1;33m)\u001b[0m\u001b[1;33m\u001b[0m\u001b[0m\n",
        "\u001b[1;32m/mq/home/m1eph00/code/test/python_compiler/SIDSGE.pyc\u001b[0m in \u001b[0;36mwrapped_f\u001b[1;34m(px)\u001b[0m\n\u001b[0;32m    357\u001b[0m         \u001b[1;32mdef\u001b[0m \u001b[0madd_para_func\u001b[0m\u001b[1;33m(\u001b[0m\u001b[0mf\u001b[0m\u001b[1;33m)\u001b[0m\u001b[1;33m:\u001b[0m\u001b[1;33m\u001b[0m\u001b[0m\n\u001b[0;32m    358\u001b[0m             \u001b[1;32mdef\u001b[0m \u001b[0mwrapped_f\u001b[0m\u001b[1;33m(\u001b[0m\u001b[0mpx\u001b[0m\u001b[1;33m)\u001b[0m\u001b[1;33m:\u001b[0m\u001b[1;33m\u001b[0m\u001b[0m\n\u001b[1;32m--> 359\u001b[1;33m                 \u001b[1;32mreturn\u001b[0m \u001b[0mf\u001b[0m\u001b[1;33m(\u001b[0m\u001b[1;33m*\u001b[0m\u001b[0mnp\u001b[0m\u001b[1;33m.\u001b[0m\u001b[0mappend\u001b[0m\u001b[1;33m(\u001b[0m\u001b[0mpx\u001b[0m\u001b[1;33m,\u001b[0m \u001b[0mpsi\u001b[0m\u001b[1;33m(\u001b[0m\u001b[1;33m*\u001b[0m\u001b[0mpx\u001b[0m\u001b[1;33m[\u001b[0m\u001b[1;33m:\u001b[0m\u001b[0mself\u001b[0m\u001b[1;33m.\u001b[0m\u001b[0mnpara\u001b[0m\u001b[1;33m]\u001b[0m\u001b[1;33m)\u001b[0m\u001b[1;33m)\u001b[0m\u001b[1;33m)\u001b[0m\u001b[1;33m\u001b[0m\u001b[0m\n\u001b[0m\u001b[0;32m    360\u001b[0m             \u001b[1;32mreturn\u001b[0m \u001b[0mwrapped_f\u001b[0m\u001b[1;33m\u001b[0m\u001b[0m\n\u001b[0;32m    361\u001b[0m \u001b[1;33m\u001b[0m\u001b[0m\n",
        "\u001b[1;31mTypeError\u001b[0m: <lambda>() takes exactly 40 arguments (13 given)"
       ]
      }
     ],
     "prompt_number": 219
    },
    {
     "cell_type": "code",
     "collapsed": false,
     "input": [
      "siedo_model.write_fortran_module('/mq/home/m1eph00/tmp/siedo/siedo-fortran/')"
     ],
     "language": "python",
     "metadata": {},
     "outputs": [
      {
       "output_type": "stream",
       "stream": "stdout",
       "text": [
        "\r",
        " Differentiating equation   1 of 86 "
       ]
      },
      {
       "output_type": "stream",
       "stream": "stdout",
       "text": [
        "\r",
        " Differentiating equation   2 of 86 "
       ]
      },
      {
       "output_type": "stream",
       "stream": "stdout",
       "text": [
        "\r",
        " Differentiating equation   3 of 86 "
       ]
      },
      {
       "output_type": "stream",
       "stream": "stdout",
       "text": [
        "\r",
        " Differentiating equation   4 of 86 "
       ]
      },
      {
       "output_type": "stream",
       "stream": "stdout",
       "text": [
        "\r",
        " Differentiating equation   5 of 86 "
       ]
      },
      {
       "output_type": "stream",
       "stream": "stdout",
       "text": [
        "\r",
        " Differentiating equation   6 of 86 "
       ]
      },
      {
       "output_type": "stream",
       "stream": "stdout",
       "text": [
        "\r",
        " Differentiating equation   7 of 86 "
       ]
      },
      {
       "output_type": "stream",
       "stream": "stdout",
       "text": [
        "\r",
        " Differentiating equation   8 of 86 "
       ]
      },
      {
       "output_type": "stream",
       "stream": "stdout",
       "text": [
        "\r",
        " Differentiating equation   9 of 86 "
       ]
      },
      {
       "output_type": "stream",
       "stream": "stdout",
       "text": [
        "\r",
        " Differentiating equation  10 of 86 "
       ]
      },
      {
       "output_type": "stream",
       "stream": "stdout",
       "text": [
        "\r",
        " Differentiating equation  11 of 86 "
       ]
      },
      {
       "output_type": "stream",
       "stream": "stdout",
       "text": [
        "\r",
        " Differentiating equation  12 of 86 "
       ]
      },
      {
       "output_type": "stream",
       "stream": "stdout",
       "text": [
        "\r",
        " Differentiating equation  13 of 86 "
       ]
      },
      {
       "output_type": "stream",
       "stream": "stdout",
       "text": [
        "\r",
        " Differentiating equation  14 of 86 "
       ]
      },
      {
       "output_type": "stream",
       "stream": "stdout",
       "text": [
        "\r",
        " Differentiating equation  15 of 86 "
       ]
      },
      {
       "output_type": "stream",
       "stream": "stdout",
       "text": [
        "\r",
        " Differentiating equation  16 of 86 "
       ]
      },
      {
       "output_type": "stream",
       "stream": "stdout",
       "text": [
        "\r",
        " Differentiating equation  17 of 86 "
       ]
      },
      {
       "output_type": "stream",
       "stream": "stdout",
       "text": [
        "\r",
        " Differentiating equation  18 of 86 "
       ]
      },
      {
       "output_type": "stream",
       "stream": "stdout",
       "text": [
        "\r",
        " Differentiating equation  19 of 86 "
       ]
      },
      {
       "output_type": "stream",
       "stream": "stdout",
       "text": [
        "\r",
        " Differentiating equation  20 of 86 "
       ]
      },
      {
       "output_type": "stream",
       "stream": "stdout",
       "text": [
        "\r",
        " Differentiating equation  21 of 86 "
       ]
      },
      {
       "output_type": "stream",
       "stream": "stdout",
       "text": [
        "\r",
        " Differentiating equation  22 of 86 "
       ]
      },
      {
       "output_type": "stream",
       "stream": "stdout",
       "text": [
        "\r",
        " Differentiating equation  23 of 86 "
       ]
      },
      {
       "output_type": "stream",
       "stream": "stdout",
       "text": [
        "\r",
        " Differentiating equation  24 of 86 "
       ]
      },
      {
       "output_type": "stream",
       "stream": "stdout",
       "text": [
        "\r",
        " Differentiating equation  25 of 86 "
       ]
      },
      {
       "output_type": "stream",
       "stream": "stdout",
       "text": [
        "\r",
        " Differentiating equation  26 of 86 "
       ]
      },
      {
       "output_type": "stream",
       "stream": "stdout",
       "text": [
        "\r",
        " Differentiating equation  27 of 86 "
       ]
      },
      {
       "output_type": "stream",
       "stream": "stdout",
       "text": [
        "\r",
        " Differentiating equation  28 of 86 "
       ]
      },
      {
       "output_type": "stream",
       "stream": "stdout",
       "text": [
        "\r",
        " Differentiating equation  29 of 86 "
       ]
      },
      {
       "output_type": "stream",
       "stream": "stdout",
       "text": [
        "\r",
        " Differentiating equation  30 of 86 "
       ]
      },
      {
       "output_type": "stream",
       "stream": "stdout",
       "text": [
        "\r",
        " Differentiating equation  31 of 86 "
       ]
      },
      {
       "output_type": "stream",
       "stream": "stdout",
       "text": [
        "\r",
        " Differentiating equation  32 of 86 "
       ]
      },
      {
       "output_type": "stream",
       "stream": "stdout",
       "text": [
        "\r",
        " Differentiating equation  33 of 86 "
       ]
      },
      {
       "output_type": "stream",
       "stream": "stdout",
       "text": [
        "\r",
        " Differentiating equation  34 of 86 "
       ]
      },
      {
       "output_type": "stream",
       "stream": "stdout",
       "text": [
        "\r",
        " Differentiating equation  35 of 86 "
       ]
      },
      {
       "output_type": "stream",
       "stream": "stdout",
       "text": [
        "\r",
        " Differentiating equation  36 of 86 "
       ]
      },
      {
       "output_type": "stream",
       "stream": "stdout",
       "text": [
        "\r",
        " Differentiating equation  37 of 86 "
       ]
      },
      {
       "output_type": "stream",
       "stream": "stdout",
       "text": [
        "\r",
        " Differentiating equation  38 of 86 "
       ]
      },
      {
       "output_type": "stream",
       "stream": "stdout",
       "text": [
        "\r",
        " Differentiating equation  39 of 86 "
       ]
      },
      {
       "output_type": "stream",
       "stream": "stdout",
       "text": [
        "\r",
        " Differentiating equation  40 of 86 "
       ]
      },
      {
       "output_type": "stream",
       "stream": "stdout",
       "text": [
        "\r",
        " Differentiating equation  41 of 86 "
       ]
      },
      {
       "output_type": "stream",
       "stream": "stdout",
       "text": [
        "\r",
        " Differentiating equation  42 of 86 "
       ]
      },
      {
       "output_type": "stream",
       "stream": "stdout",
       "text": [
        "\r",
        " Differentiating equation  43 of 86 "
       ]
      },
      {
       "output_type": "stream",
       "stream": "stdout",
       "text": [
        "\r",
        " Differentiating equation  44 of 86 "
       ]
      },
      {
       "output_type": "stream",
       "stream": "stdout",
       "text": [
        "\r",
        " Differentiating equation  45 of 86 "
       ]
      },
      {
       "output_type": "stream",
       "stream": "stdout",
       "text": [
        "\r",
        " Differentiating equation  46 of 86 "
       ]
      },
      {
       "output_type": "stream",
       "stream": "stdout",
       "text": [
        "\r",
        " Differentiating equation  47 of 86 "
       ]
      },
      {
       "output_type": "stream",
       "stream": "stdout",
       "text": [
        "\r",
        " Differentiating equation  48 of 86 "
       ]
      },
      {
       "output_type": "stream",
       "stream": "stdout",
       "text": [
        "\r",
        " Differentiating equation  49 of 86 "
       ]
      },
      {
       "output_type": "stream",
       "stream": "stdout",
       "text": [
        "\r",
        " Differentiating equation  50 of 86 "
       ]
      },
      {
       "output_type": "stream",
       "stream": "stdout",
       "text": [
        "\r",
        " Differentiating equation  51 of 86 "
       ]
      },
      {
       "output_type": "stream",
       "stream": "stdout",
       "text": [
        "\r",
        " Differentiating equation  52 of 86 "
       ]
      },
      {
       "output_type": "stream",
       "stream": "stdout",
       "text": [
        "\r",
        " Differentiating equation  53 of 86 "
       ]
      },
      {
       "output_type": "stream",
       "stream": "stdout",
       "text": [
        "\r",
        " Differentiating equation  54 of 86 "
       ]
      },
      {
       "output_type": "stream",
       "stream": "stdout",
       "text": [
        "\r",
        " Differentiating equation  55 of 86 "
       ]
      },
      {
       "output_type": "stream",
       "stream": "stdout",
       "text": [
        "\r",
        " Differentiating equation  56 of 86 "
       ]
      },
      {
       "output_type": "stream",
       "stream": "stdout",
       "text": [
        "\r",
        " Differentiating equation  57 of 86 "
       ]
      },
      {
       "output_type": "stream",
       "stream": "stdout",
       "text": [
        "\r",
        " Differentiating equation  58 of 86 "
       ]
      },
      {
       "output_type": "stream",
       "stream": "stdout",
       "text": [
        "\r",
        " Differentiating equation  59 of 86 "
       ]
      },
      {
       "output_type": "stream",
       "stream": "stdout",
       "text": [
        "\r",
        " Differentiating equation  60 of 86 "
       ]
      },
      {
       "output_type": "stream",
       "stream": "stdout",
       "text": [
        "\r",
        " Differentiating equation  61 of 86 "
       ]
      },
      {
       "output_type": "stream",
       "stream": "stdout",
       "text": [
        "\r",
        " Differentiating equation  62 of 86 "
       ]
      },
      {
       "output_type": "stream",
       "stream": "stdout",
       "text": [
        "\r",
        " Differentiating equation  63 of 86 "
       ]
      },
      {
       "output_type": "stream",
       "stream": "stdout",
       "text": [
        "\r",
        " Differentiating equation  64 of 86 "
       ]
      },
      {
       "output_type": "stream",
       "stream": "stdout",
       "text": [
        "\r",
        " Differentiating equation  65 of 86 "
       ]
      },
      {
       "output_type": "stream",
       "stream": "stdout",
       "text": [
        "\r",
        " Differentiating equation  66 of 86 "
       ]
      },
      {
       "output_type": "stream",
       "stream": "stdout",
       "text": [
        "\r",
        " Differentiating equation  67 of 86 "
       ]
      },
      {
       "output_type": "stream",
       "stream": "stdout",
       "text": [
        "\r",
        " Differentiating equation  68 of 86 "
       ]
      },
      {
       "output_type": "stream",
       "stream": "stdout",
       "text": [
        "\r",
        " Differentiating equation  69 of 86 "
       ]
      },
      {
       "output_type": "stream",
       "stream": "stdout",
       "text": [
        "\r",
        " Differentiating equation  70 of 86 "
       ]
      },
      {
       "output_type": "stream",
       "stream": "stdout",
       "text": [
        "\r",
        " Differentiating equation  71 of 86 "
       ]
      },
      {
       "output_type": "stream",
       "stream": "stdout",
       "text": [
        "\r",
        " Differentiating equation  72 of 86 "
       ]
      },
      {
       "output_type": "stream",
       "stream": "stdout",
       "text": [
        "\r",
        " Differentiating equation  73 of 86 "
       ]
      },
      {
       "output_type": "stream",
       "stream": "stdout",
       "text": [
        "\r",
        " Differentiating equation  74 of 86 "
       ]
      },
      {
       "output_type": "stream",
       "stream": "stdout",
       "text": [
        "\r",
        " Differentiating equation  75 of 86 "
       ]
      },
      {
       "output_type": "stream",
       "stream": "stdout",
       "text": [
        "\r",
        " Differentiating equation  76 of 86 "
       ]
      },
      {
       "output_type": "stream",
       "stream": "stdout",
       "text": [
        "\r",
        " Differentiating equation  77 of 86 "
       ]
      },
      {
       "output_type": "stream",
       "stream": "stdout",
       "text": [
        "\r",
        " Differentiating equation  78 of 86 "
       ]
      },
      {
       "output_type": "stream",
       "stream": "stdout",
       "text": [
        "\r",
        " Differentiating equation  79 of 86 "
       ]
      },
      {
       "output_type": "stream",
       "stream": "stdout",
       "text": [
        "\r",
        " Differentiating equation  80 of 86 "
       ]
      },
      {
       "output_type": "stream",
       "stream": "stdout",
       "text": [
        "\r",
        " Differentiating equation  81 of 86 "
       ]
      },
      {
       "output_type": "stream",
       "stream": "stdout",
       "text": [
        "\r",
        " Differentiating equation  82 of 86 "
       ]
      },
      {
       "output_type": "stream",
       "stream": "stdout",
       "text": [
        "\r",
        " Differentiating equation  83 of 86 "
       ]
      },
      {
       "output_type": "stream",
       "stream": "stdout",
       "text": [
        "\r",
        " Differentiating equation  84 of 86 "
       ]
      },
      {
       "output_type": "stream",
       "stream": "stdout",
       "text": [
        "\r",
        " Differentiating equation  85 of 86 "
       ]
      },
      {
       "output_type": "stream",
       "stream": "stdout",
       "text": [
        "\r",
        " Differentiating equation  86 of 86 \n",
        "\r",
        " Constructing substitution dictionary [r_dy                ] \r",
        " Constructing substitution dictionary [ONE                 ] \r",
        " Constructing substitution dictionary [MUZKSS              ] \r",
        " Constructing substitution dictionary [MUZMSS              ] \r",
        " Constructing substitution dictionary [gam_ic              ] \r",
        " Constructing substitution dictionary [gam_icd             ] \r",
        " Constructing substitution dictionary [r_dinf              ] \r",
        " Constructing substitution dictionary [rpr                 ] \r",
        " Constructing substitution dictionary [phi_u               ] \r",
        " Constructing substitution dictionary [rho_MUZK            ] \r",
        " Constructing substitution dictionary [rho_MUZM            ] \r",
        " Constructing substitution dictionary [pbeta               ] \r",
        " Constructing substitution dictionary [delta_              ] \r",
        " Constructing substitution dictionary [h_cd                ] \r",
        " Constructing substitution dictionary [h_ch                ] \r",
        " Constructing substitution dictionary [delta_cd            ] \r",
        " Constructing substitution dictionary [delta_ch            ] \r",
        " Constructing substitution dictionary [alpha_              ] \r",
        " Constructing substitution dictionary [theta_c             ] \r",
        " Constructing substitution dictionary [theta_k             ] \r",
        " Constructing substitution dictionary [g_y                 ] \r",
        " Constructing substitution dictionary [a_ks                ] \r",
        " Constructing substitution dictionary [s_AS                ] \r",
        " Constructing substitution dictionary [gam_h               ] \r",
        " Constructing substitution dictionary [gam_ech             ] \r",
        " Constructing substitution dictionary [icoef               ] \r",
        " Constructing substitution dictionary [betarl              ] \r",
        " Constructing substitution dictionary [beta_0              ] \r",
        " Constructing substitution dictionary [beta_2              ] \r",
        " Constructing substitution dictionary [beta_               ] \r",
        " Constructing substitution dictionary [MUZCSS              ] \r",
        " Constructing substitution dictionary [ONE                 ] \r",
        " Constructing substitution dictionary [USS                 ] \r",
        " Constructing substitution dictionary [MUKSS               ] \r",
        " Constructing substitution dictionary [MUCSS               ] \r",
        " Constructing substitution dictionary [MUKSShabit          ] \r",
        " Constructing substitution dictionary [MUCSShabit          ] \r",
        " Constructing substitution dictionary [PKBSS               ] \r",
        " Constructing substitution dictionary [PYSS                ] \r",
        " Constructing substitution dictionary [MCCSS               ] \r",
        " Constructing substitution dictionary [MCKSS               ] \r",
        " Constructing substitution dictionary [RKSS                ] \r",
        " Constructing substitution dictionary [RCSS                ] \r",
        " Constructing substitution dictionary [RCHSS               ] \r",
        " Constructing substitution dictionary [RCDSS               ] \r",
        " Constructing substitution dictionary [USS                 ] \r",
        " Constructing substitution dictionary [mu_                 ] \r",
        " Constructing substitution dictionary [unempSS             ] \r",
        " Constructing substitution dictionary [AA                  ] \r",
        " Constructing substitution dictionary [eta_cnn             ] \r",
        " Constructing substitution dictionary [eta_cd_eta_cnn      ] \r",
        " Constructing substitution dictionary [eta_ch_eta_cnn      ] \r",
        " Constructing substitution dictionary [eta_ch              ] \r",
        " Constructing substitution dictionary [eta_cd              ] \r",
        " Constructing substitution dictionary [DDpara              ] \r",
        " Constructing substitution dictionary [RRpara              ] \r",
        " Constructing substitution dictionary [Rnr                 ] \r",
        " Constructing substitution dictionary [ycbi_ykb            ] \r",
        " Constructing substitution dictionary [hc_hk               ] \r",
        " Constructing substitution dictionary [HSS                 ] \r",
        " Constructing substitution dictionary [AHSS                ] \r",
        " Constructing substitution dictionary [HKSS                ] \r",
        " Constructing substitution dictionary [HCSS                ] \r",
        " Constructing substitution dictionary [HrCSS               ] \r",
        " Constructing substitution dictionary [HrKSS               ] \r",
        " Constructing substitution dictionary [empCSS              ] \r",
        " Constructing substitution dictionary [empKSS              ] \r",
        " Constructing substitution dictionary [ycbi                ] \r",
        " Constructing substitution dictionary [ykb                 ] \r",
        " Constructing substitution dictionary [YCSS                ] \r",
        " Constructing substitution dictionary [YKSS                ] \r",
        " Constructing substitution dictionary [KCSS                ] \r",
        " Constructing substitution dictionary [KKSS                ] \r",
        " Constructing substitution dictionary [ECHSS               ] \r",
        " Constructing substitution dictionary [ECSS                ] \r",
        " Constructing substitution dictionary [ECDSS               ] \r",
        " Constructing substitution dictionary [EIKSS               ] \r",
        " Constructing substitution dictionary [KCDSS               ] \r",
        " Constructing substitution dictionary [KCHSS               ] \r",
        " Constructing substitution dictionary [YYSS                ] \r",
        " Constructing substitution dictionary [s_k_ecd             ] \r",
        " Constructing substitution dictionary [s_c_ech             ] \r",
        " Constructing substitution dictionary [s_k_eik             ] \r",
        " Constructing substitution dictionary [s_yc                ] \r",
        " Constructing substitution dictionary [s_ecdc              ] \r",
        " Constructing substitution dictionary [INFCNASS            ] \r",
        " Constructing substitution dictionary [INFCSS              ] \r",
        " Constructing substitution dictionary [INFCORSS            ] \r",
        " Constructing substitution dictionary [INFKSS              ] \r",
        " Constructing substitution dictionary [INFWCSS             ] \r",
        " Constructing substitution dictionary [INFWKSS             ] \r",
        " Constructing substitution dictionary [RSS                 ] \r",
        " Constructing substitution dictionary [RT2SS               ] \r",
        " Constructing substitution dictionary [INFC10SS            ] \r",
        " Constructing substitution dictionary [IMPHSSS             ] \r",
        " Constructing substitution dictionary [s_k                 ] \r",
        " Constructing substitution dictionary [INFGDPSS            ] \r",
        " Constructing substitution dictionary [LSS                 ] \r",
        " Constructing substitution dictionary [WCSS                ] \r",
        " Constructing substitution dictionary [WKSS                ] \r",
        " Constructing substitution dictionary [markup_w            ] \r",
        " Constructing substitution dictionary [theta_wc            ] \r",
        " Constructing substitution dictionary [theta_wk            ] \r",
        " Constructing substitution dictionary [xsiN_xsiH_C         ] \r",
        " Constructing substitution dictionary [xsiN_xsiH_K         ] \r",
        " Constructing substitution dictionary [A_HC                ] \r",
        " Constructing substitution dictionary [A_HK                ] \r",
        " Constructing substitution dictionary [xsi_NC              ] \r",
        " Constructing substitution dictionary [xsi_NK              ] \r",
        " Constructing substitution dictionary [xsi_HrC             ] \r",
        " Constructing substitution dictionary [xsi_HrK             ] \r",
        " Constructing substitution dictionary [HSCSS               ] \r",
        " Constructing substitution dictionary [HSKSS               ] \r",
        " Constructing substitution dictionary [empSCSS             ] \r",
        " Constructing substitution dictionary [empSKSS             ] \r",
        " Constructing substitution dictionary [gC                  ] \r",
        " Constructing substitution dictionary [markup_xsiN_C       ] \r",
        " Constructing substitution dictionary [gK                  ] \r",
        " Constructing substitution dictionary [markup_xsiN_K       ] \r",
        " Constructing substitution dictionary [UHCSS               ] \r",
        " Constructing substitution dictionary [UHKSS               ] \r",
        " Constructing substitution dictionary [HrSCSS              ] \r",
        " Constructing substitution dictionary [HrSKSS              ] \r",
        " Constructing substitution dictionary [UHSCSS              ] \r",
        " Constructing substitution dictionary [UHSKSS              ] \r",
        " Constructing substitution dictionary [QKSS                ] \r",
        " Constructing substitution dictionary [QCDSS               ] \r",
        " Constructing substitution dictionary [QCHSS               ] \r",
        " Constructing substitution dictionary [UCSS                ] \r",
        " Constructing substitution dictionary [UKSS                ] \r",
        " Constructing substitution dictionary [XiBSS               ] \r",
        " Constructing substitution dictionary [XiDSS               ] \r",
        " Constructing substitution dictionary [XiHSS               ] \r",
        " Constructing substitution dictionary [RL1SS               ] \r",
        " Constructing substitution dictionary [RL2SS               ] \r",
        " Constructing substitution dictionary [RL3SS               ] \r",
        " Constructing substitution dictionary [RL4SS               ] \r",
        " Constructing substitution dictionary [RL5SS               ] \r",
        " Constructing substitution dictionary [RL6SS               ] \r",
        " Constructing substitution dictionary [RL7SS               ] \r",
        " Constructing substitution dictionary [DIFFREALECSS        ] \r",
        " Constructing substitution dictionary [DIFFREALEIKSS       ] \r",
        " Constructing substitution dictionary [DIFFREALECDSS       ] \r",
        " Constructing substitution dictionary [DIFFREALECHSS       ] \r",
        " Constructing substitution dictionary [DIFFREALWSS         ] \r",
        " Constructing substitution dictionary [DIFFREALGDPSS       ] "
       ]
      },
      {
       "output_type": "stream",
       "stream": "stdout",
       "text": [
        "zero matrices done\n",
        "jth matrices done"
       ]
      },
      {
       "output_type": "stream",
       "stream": "stdout",
       "text": [
        "\n",
        "System matrices constructed."
       ]
      },
      {
       "output_type": "stream",
       "stream": "stdout",
       "text": [
        "\n",
        "I'm write to  /mq/home/m1eph00/tmp/siedo/siedo-fortran/ .\n",
        "Directory already exists.\n",
        "file exists\n",
        "model directory exists\n"
       ]
      }
     ],
     "prompt_number": 102
    },
    {
     "cell_type": "code",
     "collapsed": false,
     "input": [
      "trabandt = read('/mq/DSGE/research/alt_pricing/estimation/yaml-models/mankiw_reis.yaml')\n",
      "\n",
      "trabandt.construct_sys_mat()\n",
      "p0 = map(lambda x: eval(str(trabandt['calibration'][str(x)])), trabandt.parameters)\n",
      "\n",
      "t = trabandt.compile_model()\n",
      "\n",
      "t.impulse_response(p0, h=5*4)['e']['pp'].plot()\n",
      "#xlim([-4, 20])\n",
      "#ylim([-3.5*10**-3, 0])"
     ],
     "language": "python",
     "metadata": {},
     "outputs": [
      {
       "output_type": "stream",
       "stream": "stdout",
       "text": [
        "\r",
        " Differentiating equation   1 of 4 \r",
        " Differentiating equation   2 of 4 \r",
        " Differentiating equation   3 of 4 \r",
        " Differentiating equation   4 of 4 \n",
        "zero matrices done"
       ]
      },
      {
       "output_type": "stream",
       "stream": "stdout",
       "text": [
        "\n",
        "jth matrices done"
       ]
      },
      {
       "output_type": "stream",
       "stream": "stdout",
       "text": [
        "\n",
        "System matrices constructed."
       ]
      },
      {
       "output_type": "stream",
       "stream": "stdout",
       "text": [
        "\n",
        "0\n"
       ]
      },
      {
       "metadata": {},
       "output_type": "pyout",
       "prompt_number": 107,
       "text": [
        "<matplotlib.axes.AxesSubplot at 0x2ace4b9a6410>"
       ]
      },
      {
       "metadata": {},
       "output_type": "display_data",
       "png": "[encoded data removed]",
       "text": [
        "<matplotlib.figure.Figure at 0x2ace4b9a6750>"
       ]
      }
     ],
     "prompt_number": 107
    },
    {
     "cell_type": "code",
     "collapsed": false,
     "input": [
      "import sympy\n",
      "lam =sympy.symbols('lam')\n",
      "k = sympy.symbols('k')\n",
      "sympy.Sum(lam**k, (k, 1, sympy.oo)).doit()"
     ],
     "language": "python",
     "metadata": {},
     "outputs": [
      {
       "metadata": {},
       "output_type": "pyout",
       "prompt_number": 99,
       "text": [
        "Piecewise((lam/(-lam + 1), Abs(lam) < 1), (Sum(lam**k, (k, 1, oo)), True))"
       ]
      }
     ],
     "prompt_number": 99
    },
    {
     "cell_type": "code",
     "collapsed": false,
     "input": [
      "fname = '/mq/scratch/m1eph00/siedo/smc-edo-mix-npart-4800-nintmh-1-nphi-500-prior-b4-trial{0}-phi-4.0'\n",
      "\n",
      "for i in range(3):\n",
      "    zhat = np.loadtxt(fname.format(i+1)+'/zratios.txt')\n",
      "    print np.sum(np.log(zhat))\n",
      "\n",
      "\n",
      "parafile = fname.format(i+1)+'/500parasim.txt'\n",
      "para = p.read_csv(parafile, delim_whitespace=True, names=map(lambda x: str(x), edo_model.parameters)).reset_index(drop=True)\n",
      "para.median()"
     ],
     "language": "python",
     "metadata": {},
     "outputs": [
      {
       "output_type": "stream",
       "stream": "stdout",
       "text": [
        "-1609.13339265\n",
        "-1607.19889635\n",
        "-1607.43976178\n"
       ]
      },
      {
       "metadata": {},
       "output_type": "pyout",
       "prompt_number": 714,
       "text": [
        "h              0.870489\n",
        "r_inf          1.502137\n",
        "r_y            0.193763\n",
        "phi_pc         5.830895\n",
        "phi_H          4.282708\n",
        "phi_wc         8.230058\n",
        "phi_ic         0.280122\n",
        "phi_cd         0.078678\n",
        "phi_ech        4.071127\n",
        "gam_pc         0.042427\n",
        "gam_wc        -0.284875\n",
        "rho_R          0.543749\n",
        "rho_B          0.943575\n",
        "rho_STAR       0.904149\n",
        "rho_EFFK       0.968093\n",
        "rho_EFFECD     0.842272\n",
        "rho_HG         0.530273\n",
        "rho_EFFECH     0.920462\n",
        "rho_XiL        0.858008\n",
        "rho_lpref      0.981993\n",
        "tp2            0.000380\n",
        "sigman        19.649580\n",
        "sigmah        10.109392\n",
        "sig_HG         0.379426\n",
        "sig_XiL        0.305123\n",
        "sig_lpref      2.736930\n",
        "sig_R          0.124932\n",
        "sig_MUZK       1.116252\n",
        "sig_MUZM       0.656100\n",
        "sig_PMKC       0.160666\n",
        "sig_PMKK       0.330567\n",
        "sig_EFFECH     0.191664\n",
        "sig_EFFECD     0.332010\n",
        "sig_EFFK       0.205062\n",
        "sig_B          0.172632\n",
        "sig_STAR       0.098680\n",
        "dtype: float64"
       ]
      }
     ],
     "prompt_number": 714
    },
    {
     "cell_type": "code",
     "collapsed": false,
     "input": [
      "sys.path.append('/mq/home/m1eph00/code/python')\n",
      "import schedule\n",
      "#schedule.run('$ARC_MPI -n 48 /mq/home/m1eph00/tmp/siedo/siedo-fortran/smc_edo -i 2 --npart 4800 -o 3 --bend 4.0 --output-dir /mq/scratch/m1eph00/siedo/', 48)"
     ],
     "language": "python",
     "metadata": {},
     "outputs": [],
     "prompt_number": 105
    },
    {
     "cell_type": "code",
     "collapsed": false,
     "input": [
      "3.0*500.0/(60.0)"
     ],
     "language": "python",
     "metadata": {},
     "outputs": [
      {
       "metadata": {},
       "output_type": "pyout",
       "prompt_number": 108,
       "text": [
        "25.0"
       ]
      }
     ],
     "prompt_number": 108
    },
    {
     "cell_type": "code",
     "collapsed": false,
     "input": [
      "sp = (0.6, 6)\n",
      "si = (0.7, 3)\n",
      "\n",
      "ind = np.arange(2)\n",
      "width = 0.35\n",
      "fig, ax = plt.subplots()\n",
      "rects1 = ax.bar(ind, sp, width, color='b', alpha=0.5)\n",
      "rects2 = ax.bar(ind+width, si, width, color='g', alpha=0.5)\n",
      "ax.set_ylabel('Effect on Output (Percent)')\n",
      "ax.set_title('Monetary Policy Shocks: Good and Bad Times')\n",
      "ax.legend((rects1[0], rects2[0]), ('Sticky Prices', 'Sticky Information'), loc='upper left')\n",
      "ax.set_xticks(ind+width)\n",
      "ax.set_xticklabels(('Normal Times', 'Binding Zero Lower Bound'))\n",
      "ax.set_ylim([0, 8])\n",
      "fig.savefig('/mq/home/m1eph00/tmp/si.pdf')"
     ],
     "language": "python",
     "metadata": {},
     "outputs": [
      {
       "metadata": {},
       "output_type": "display_data",
       "png": "[encoded data removed]",
       "text": [
        "<matplotlib.figure.Figure at 0x17bdd9d0>"
       ]
      }
     ],
     "prompt_number": 648
    },
    {
     "cell_type": "code",
     "collapsed": false,
     "input": [],
     "language": "python",
     "metadata": {},
     "outputs": [
      {
       "ename": "ValueError",
       "evalue": "Shape of passed values is (1, 111), indices imply (13, 111)",
       "output_type": "pyerr",
       "traceback": [
        "\u001b[1;31m---------------------------------------------------------------------------\u001b[0m\n\u001b[1;31mValueError\u001b[0m                                Traceback (most recent call last)",
        "\u001b[1;32m<ipython-input-650-a556dba2f860>\u001b[0m in \u001b[0;36m<module>\u001b[1;34m()\u001b[0m\n\u001b[1;32m----> 1\u001b[1;33m \u001b[0medo\u001b[0m \u001b[1;33m=\u001b[0m \u001b[0medo_model\u001b[0m\u001b[1;33m.\u001b[0m\u001b[0mcompile_model\u001b[0m\u001b[1;33m(\u001b[0m\u001b[1;33m)\u001b[0m\u001b[1;33m\u001b[0m\u001b[0m\n\u001b[0m",
        "\u001b[1;32m/mq/home/m1eph00/code/test/python_compiler/DSGE.py\u001b[0m in \u001b[0;36mcompile_model\u001b[1;34m(self)\u001b[0m\n\u001b[0;32m    256\u001b[0m \u001b[1;33m\u001b[0m\u001b[0m\n\u001b[0;32m    257\u001b[0m         \u001b[0mdata\u001b[0m \u001b[1;33m=\u001b[0m \u001b[0mnp\u001b[0m\u001b[1;33m.\u001b[0m\u001b[0mgenfromtxt\u001b[0m\u001b[1;33m(\u001b[0m\u001b[0mdatafile\u001b[0m\u001b[1;33m,\u001b[0m \u001b[0mdelimiter\u001b[0m\u001b[1;33m=\u001b[0m\u001b[1;34m','\u001b[0m\u001b[1;33m,\u001b[0m \u001b[0mmissing_values\u001b[0m\u001b[1;33m=\u001b[0m\u001b[1;34m'NaN'\u001b[0m\u001b[1;33m)\u001b[0m\u001b[1;33m\u001b[0m\u001b[0m\n\u001b[1;32m--> 258\u001b[1;33m         \u001b[0mdata\u001b[0m \u001b[1;33m=\u001b[0m \u001b[0mp\u001b[0m\u001b[1;33m.\u001b[0m\u001b[0mDataFrame\u001b[0m\u001b[1;33m(\u001b[0m\u001b[0mdata\u001b[0m\u001b[1;33m,\u001b[0m \u001b[0mcolumns\u001b[0m\u001b[1;33m=\u001b[0m\u001b[0mmap\u001b[0m\u001b[1;33m(\u001b[0m\u001b[1;32mlambda\u001b[0m \u001b[0mx\u001b[0m\u001b[1;33m:\u001b[0m \u001b[0mstr\u001b[0m\u001b[1;33m(\u001b[0m\u001b[0mx\u001b[0m\u001b[1;33m)\u001b[0m\u001b[1;33m,\u001b[0m \u001b[0mself\u001b[0m\u001b[1;33m[\u001b[0m\u001b[1;34m'observables'\u001b[0m\u001b[1;33m]\u001b[0m\u001b[1;33m)\u001b[0m\u001b[1;33m)\u001b[0m\u001b[1;33m\u001b[0m\u001b[0m\n\u001b[0m\u001b[0;32m    259\u001b[0m \u001b[1;33m\u001b[0m\u001b[0m\n\u001b[0;32m    260\u001b[0m         \u001b[1;32mif\u001b[0m \u001b[0mstartdate\u001b[0m \u001b[1;32mis\u001b[0m \u001b[1;32mnot\u001b[0m \u001b[1;36m0\u001b[0m\u001b[1;33m:\u001b[0m\u001b[1;33m\u001b[0m\u001b[0m\n",
        "\u001b[1;32m/mq/home/m1eph00/anaconda/lib/python2.7/site-packages/pandas-0.13.1-py2.7-linux-x86_64.egg/pandas/core/frame.pyc\u001b[0m in \u001b[0;36m__init__\u001b[1;34m(self, data, index, columns, dtype, copy)\u001b[0m\n\u001b[0;32m    230\u001b[0m             \u001b[1;32melse\u001b[0m\u001b[1;33m:\u001b[0m\u001b[1;33m\u001b[0m\u001b[0m\n\u001b[0;32m    231\u001b[0m                 mgr = self._init_ndarray(data, index, columns, dtype=dtype,\n\u001b[1;32m--> 232\u001b[1;33m                                          copy=copy)\n\u001b[0m\u001b[0;32m    233\u001b[0m         \u001b[1;32melif\u001b[0m \u001b[0misinstance\u001b[0m\u001b[1;33m(\u001b[0m\u001b[0mdata\u001b[0m\u001b[1;33m,\u001b[0m \u001b[1;33m(\u001b[0m\u001b[0mlist\u001b[0m\u001b[1;33m,\u001b[0m \u001b[0mtypes\u001b[0m\u001b[1;33m.\u001b[0m\u001b[0mGeneratorType\u001b[0m\u001b[1;33m)\u001b[0m\u001b[1;33m)\u001b[0m\u001b[1;33m:\u001b[0m\u001b[1;33m\u001b[0m\u001b[0m\n\u001b[0;32m    234\u001b[0m             \u001b[1;32mif\u001b[0m \u001b[0misinstance\u001b[0m\u001b[1;33m(\u001b[0m\u001b[0mdata\u001b[0m\u001b[1;33m,\u001b[0m \u001b[0mtypes\u001b[0m\u001b[1;33m.\u001b[0m\u001b[0mGeneratorType\u001b[0m\u001b[1;33m)\u001b[0m\u001b[1;33m:\u001b[0m\u001b[1;33m\u001b[0m\u001b[0m\n",
        "\u001b[1;32m/mq/home/m1eph00/anaconda/lib/python2.7/site-packages/pandas-0.13.1-py2.7-linux-x86_64.egg/pandas/core/frame.pyc\u001b[0m in \u001b[0;36m_init_ndarray\u001b[1;34m(self, values, index, columns, dtype, copy)\u001b[0m\n\u001b[0;32m    361\u001b[0m             \u001b[0mcolumns\u001b[0m \u001b[1;33m=\u001b[0m \u001b[0m_ensure_index\u001b[0m\u001b[1;33m(\u001b[0m\u001b[0mcolumns\u001b[0m\u001b[1;33m)\u001b[0m\u001b[1;33m\u001b[0m\u001b[0m\n\u001b[0;32m    362\u001b[0m \u001b[1;33m\u001b[0m\u001b[0m\n\u001b[1;32m--> 363\u001b[1;33m         \u001b[1;32mreturn\u001b[0m \u001b[0mcreate_block_manager_from_blocks\u001b[0m\u001b[1;33m(\u001b[0m\u001b[1;33m[\u001b[0m\u001b[0mvalues\u001b[0m\u001b[1;33m.\u001b[0m\u001b[0mT\u001b[0m\u001b[1;33m]\u001b[0m\u001b[1;33m,\u001b[0m \u001b[1;33m[\u001b[0m\u001b[0mcolumns\u001b[0m\u001b[1;33m,\u001b[0m \u001b[0mindex\u001b[0m\u001b[1;33m]\u001b[0m\u001b[1;33m)\u001b[0m\u001b[1;33m\u001b[0m\u001b[0m\n\u001b[0m\u001b[0;32m    364\u001b[0m \u001b[1;33m\u001b[0m\u001b[0m\n\u001b[0;32m    365\u001b[0m     \u001b[1;33m@\u001b[0m\u001b[0mproperty\u001b[0m\u001b[1;33m\u001b[0m\u001b[0m\n",
        "\u001b[1;32m/mq/home/m1eph00/anaconda/lib/python2.7/site-packages/pandas-0.13.1-py2.7-linux-x86_64.egg/pandas/core/internals.pyc\u001b[0m in \u001b[0;36mcreate_block_manager_from_blocks\u001b[1;34m(blocks, axes)\u001b[0m\n\u001b[0;32m   3747\u001b[0m         \u001b[0mblocks\u001b[0m \u001b[1;33m=\u001b[0m \u001b[1;33m[\u001b[0m\u001b[0mgetattr\u001b[0m\u001b[1;33m(\u001b[0m\u001b[0mb\u001b[0m\u001b[1;33m,\u001b[0m \u001b[1;34m'values'\u001b[0m\u001b[1;33m,\u001b[0m \u001b[0mb\u001b[0m\u001b[1;33m)\u001b[0m \u001b[1;32mfor\u001b[0m \u001b[0mb\u001b[0m \u001b[1;32min\u001b[0m \u001b[0mblocks\u001b[0m\u001b[1;33m]\u001b[0m\u001b[1;33m\u001b[0m\u001b[0m\n\u001b[0;32m   3748\u001b[0m         \u001b[0mtot_items\u001b[0m \u001b[1;33m=\u001b[0m \u001b[0msum\u001b[0m\u001b[1;33m(\u001b[0m\u001b[0mb\u001b[0m\u001b[1;33m.\u001b[0m\u001b[0mshape\u001b[0m\u001b[1;33m[\u001b[0m\u001b[1;36m0\u001b[0m\u001b[1;33m]\u001b[0m \u001b[1;32mfor\u001b[0m \u001b[0mb\u001b[0m \u001b[1;32min\u001b[0m \u001b[0mblocks\u001b[0m\u001b[1;33m)\u001b[0m\u001b[1;33m\u001b[0m\u001b[0m\n\u001b[1;32m-> 3749\u001b[1;33m         \u001b[0mconstruction_error\u001b[0m\u001b[1;33m(\u001b[0m\u001b[0mtot_items\u001b[0m\u001b[1;33m,\u001b[0m \u001b[0mblocks\u001b[0m\u001b[1;33m[\u001b[0m\u001b[1;36m0\u001b[0m\u001b[1;33m]\u001b[0m\u001b[1;33m.\u001b[0m\u001b[0mshape\u001b[0m\u001b[1;33m[\u001b[0m\u001b[1;36m1\u001b[0m\u001b[1;33m:\u001b[0m\u001b[1;33m]\u001b[0m\u001b[1;33m,\u001b[0m \u001b[0maxes\u001b[0m\u001b[1;33m,\u001b[0m \u001b[0me\u001b[0m\u001b[1;33m)\u001b[0m\u001b[1;33m\u001b[0m\u001b[0m\n\u001b[0m\u001b[0;32m   3750\u001b[0m \u001b[1;33m\u001b[0m\u001b[0m\n\u001b[0;32m   3751\u001b[0m \u001b[1;33m\u001b[0m\u001b[0m\n",
        "\u001b[1;32m/mq/home/m1eph00/anaconda/lib/python2.7/site-packages/pandas-0.13.1-py2.7-linux-x86_64.egg/pandas/core/internals.pyc\u001b[0m in \u001b[0;36mconstruction_error\u001b[1;34m(tot_items, block_shape, axes, e)\u001b[0m\n\u001b[0;32m   3729\u001b[0m         \u001b[1;32mraise\u001b[0m \u001b[0me\u001b[0m\u001b[1;33m\u001b[0m\u001b[0m\n\u001b[0;32m   3730\u001b[0m     raise ValueError(\"Shape of passed values is {0}, indices imply {1}\".format(\n\u001b[1;32m-> 3731\u001b[1;33m         passed,implied))\n\u001b[0m\u001b[0;32m   3732\u001b[0m \u001b[1;33m\u001b[0m\u001b[0m\n\u001b[0;32m   3733\u001b[0m \u001b[1;32mdef\u001b[0m \u001b[0mcreate_block_manager_from_blocks\u001b[0m\u001b[1;33m(\u001b[0m\u001b[0mblocks\u001b[0m\u001b[1;33m,\u001b[0m \u001b[0maxes\u001b[0m\u001b[1;33m)\u001b[0m\u001b[1;33m:\u001b[0m\u001b[1;33m\u001b[0m\u001b[0m\n",
        "\u001b[1;31mValueError\u001b[0m: Shape of passed values is (1, 111), indices imply (13, 111)"
       ]
      }
     ],
     "prompt_number": 650
    },
    {
     "cell_type": "code",
     "collapsed": false,
     "input": [
      "irfs = edo.impulse_response(edo_model.p0(), h=100)"
     ],
     "language": "python",
     "metadata": {},
     "outputs": [],
     "prompt_number": 537
    },
    {
     "cell_type": "code",
     "collapsed": false,
     "input": [
      "irfs['eHG']['DIFFREALGDP'][:21].cumsum().plot(legend=True)\n",
      "nkmp_irfs['epsg']['y'].plot()\n",
      "sw_irfs['eg']['y'].plot()"
     ],
     "language": "python",
     "metadata": {},
     "outputs": [
      {
       "metadata": {},
       "output_type": "pyout",
       "prompt_number": 536,
       "text": [
        "<matplotlib.axes.AxesSubplot at 0x2ba8cf85d210>"
       ]
      },
      {
       "metadata": {},
       "output_type": "display_data",
       "png": "[encoded data removed]",
       "text": [
        "<matplotlib.figure.Figure at 0x150f1390>"
       ]
      }
     ],
     "prompt_number": 536
    },
    {
     "cell_type": "code",
     "collapsed": false,
     "input": [
      "sw_model = DSGE.DSGE.read('/mq/home/m1eph00/python-repo/dsge/examples/sw/sw.yaml')\n",
      "sw = sw_model.compile_model()\n",
      "sw_irfs = sw.impulse_response(sw_model.p0(), h=100)"
     ],
     "language": "python",
     "metadata": {},
     "outputs": [],
     "prompt_number": 651
    },
    {
     "cell_type": "code",
     "collapsed": false,
     "input": [
      "sw_irfs['eqs'][['y', 'yf']].plot(color=['Black', 'Grey'], alpha=0.8, linewidth=4)\n",
      "legend([r'$y_t$', r'$y_t^*$'], fontsize=18)"
     ],
     "language": "python",
     "metadata": {},
     "outputs": [
      {
       "metadata": {},
       "output_type": "pyout",
       "prompt_number": 649,
       "text": [
        "<matplotlib.legend.Legend at 0x17de8510>"
       ]
      },
      {
       "metadata": {},
       "output_type": "display_data",
       "png": "[encoded data removed]",
       "text": [
        "<matplotlib.figure.Figure at 0x17de9e10>"
       ]
      }
     ],
     "prompt_number": 649
    },
    {
     "cell_type": "code",
     "collapsed": false,
     "input": [
      "sw.yy['robs'].plot()"
     ],
     "language": "python",
     "metadata": {},
     "outputs": [
      {
       "metadata": {},
       "output_type": "pyout",
       "prompt_number": 619,
       "text": [
        "<matplotlib.axes.AxesSubplot at 0x2ba8d5d13a90>"
       ]
      },
      {
       "metadata": {},
       "output_type": "display_data",
       "png": "[encoded data removed]",
       "text": [
        "<matplotlib.figure.Figure at 0x2ba8d5b7d350>"
       ]
      }
     ],
     "prompt_number": 619
    },
    {
     "cell_type": "code",
     "collapsed": false,
     "input": [
      "p.period_range('2001', periods=3, freq='Q')"
     ],
     "language": "python",
     "metadata": {},
     "outputs": [
      {
       "metadata": {},
       "output_type": "pyout",
       "prompt_number": 624,
       "text": [
        "<class 'pandas.tseries.period.PeriodIndex'>\n",
        "freq: Q-DEC\n",
        "[2001Q1, ..., 2001Q3]\n",
        "length: 3"
       ]
      }
     ],
     "prompt_number": 624
    },
    {
     "cell_type": "code",
     "collapsed": false,
     "input": [
      "sw.log_lik(sw_model.p0()) "
     ],
     "language": "python",
     "metadata": {},
     "outputs": [
      {
       "ename": "NameError",
       "evalue": "name 'sw' is not defined",
       "output_type": "pyerr",
       "traceback": [
        "\u001b[1;31m---------------------------------------------------------------------------\u001b[0m\n\u001b[1;31mNameError\u001b[0m                                 Traceback (most recent call last)",
        "\u001b[1;32m<ipython-input-268-10a36043378f>\u001b[0m in \u001b[0;36m<module>\u001b[1;34m()\u001b[0m\n\u001b[1;32m----> 1\u001b[1;33m \u001b[0msw\u001b[0m\u001b[1;33m.\u001b[0m\u001b[0mlog_lik\u001b[0m\u001b[1;33m(\u001b[0m\u001b[0msw_model\u001b[0m\u001b[1;33m.\u001b[0m\u001b[0mp0\u001b[0m\u001b[1;33m(\u001b[0m\u001b[1;33m)\u001b[0m\u001b[1;33m)\u001b[0m\u001b[1;33m\u001b[0m\u001b[0m\n\u001b[0m",
        "\u001b[1;31mNameError\u001b[0m: name 'sw' is not defined"
       ]
      }
     ],
     "prompt_number": 268
    }
   ],
   "metadata": {}
  }
 ]
}